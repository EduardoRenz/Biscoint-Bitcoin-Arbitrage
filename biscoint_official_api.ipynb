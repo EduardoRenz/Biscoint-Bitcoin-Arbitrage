{
 "metadata": {
  "language_info": {
   "codemirror_mode": {
    "name": "ipython",
    "version": 3
   },
   "file_extension": ".py",
   "mimetype": "text/x-python",
   "name": "python",
   "nbconvert_exporter": "python",
   "pygments_lexer": "ipython3",
   "version": "3.9.4"
  },
  "orig_nbformat": 2,
  "kernelspec": {
   "name": "python394jvsc74a57bd0d1923312bdd1ecdaed4c03ef9f030b61bfc0be630f081d4aef47785cf6a28ea0",
   "display_name": "Python 3.9.4 64-bit"
  },
  "metadata": {
   "interpreter": {
    "hash": "d1923312bdd1ecdaed4c03ef9f030b61bfc0be630f081d4aef47785cf6a28ea0"
   }
  }
 },
 "nbformat": 4,
 "nbformat_minor": 2,
 "cells": [
  {
   "cell_type": "code",
   "execution_count": 4,
   "metadata": {},
   "outputs": [],
   "source": [
    "import time\n",
    "from datetime import datetime as dt\n",
    "from biscoint_api_python import Biscoint\n",
    "from playsound import playsound\n",
    "from utils import percent\n",
    "from configs import logging\n",
    "from configs import API_KEY,API_SECRET,AMOUNT,MIN_PERCENT_REQUIRED,BASE_URL"
   ]
  },
  {
   "cell_type": "code",
   "execution_count": 5,
   "metadata": {},
   "outputs": [],
   "source": [
    "bsc = Biscoint(API_KEY, API_SECRET)\n",
    "endpoints_meta = bsc.get_meta()\n",
    "rate_limit_offer = endpoints_meta['endpoints']['offer']['post']['rateLimit']\n",
    "sleep_time_offers = ((rate_limit_offer[\"windowMs\"] / rate_limit_offer[\"maxRequests\"]) / 1000)*2\n",
    "initial_balance = bsc.get_balance()\n",
    "last_balance = initial_balance"
   ]
  },
  {
   "cell_type": "code",
   "execution_count": 3,
   "metadata": {},
   "outputs": [
    {
     "output_type": "execute_result",
     "data": {
      "text/plain": [
       "{'withdrawal': {'BTC': {'rate': '0.0',\n",
       "   'fixed': {'slow': '0.00051', 'normal': '0.00061', 'fast': '0.00073'}},\n",
       "  'BRL': {'rate': '0.0',\n",
       "   'fixed': {'ted': '14.90', 'sameBankTransfer': '14.90'}}}}"
      ]
     },
     "metadata": {},
     "execution_count": 3
    }
   ],
   "source": [
    "#requests.get(f\"{BASE_URL}/fees\").json()\n",
    "bsc.get_fees()"
   ]
  },
  {
   "cell_type": "code",
   "execution_count": 6,
   "metadata": {},
   "outputs": [
    {
     "output_type": "execute_result",
     "data": {
      "text/plain": [
       "{'offerId': 'haGrhqJ7wZQEMvNZE',\n",
       " 'base': 'BTC',\n",
       " 'quote': 'BRL',\n",
       " 'op': 'buy',\n",
       " 'isQuote': False,\n",
       " 'baseAmount': '0.00001000',\n",
       " 'quoteAmount': '3.26',\n",
       " 'efPrice': '326000.00',\n",
       " 'createdAt': '2021-04-19T06:18:46.653Z',\n",
       " 'expiresAt': '2021-04-19T06:19:01.653Z',\n",
       " 'apiKeyId': 'vo3Jt2cEmvPxQZ7NS'}"
      ]
     },
     "metadata": {},
     "execution_count": 6
    }
   ],
   "source": [
    "bsc.get_offer(op='buy',amount=AMOUNT,isQuote=False)"
   ]
  },
  {
   "cell_type": "code",
   "execution_count": 17,
   "metadata": {
    "tags": []
   },
   "outputs": [
    {
     "output_type": "stream",
     "name": "stdout",
     "text": [
      "Percent is -0.676\n",
      "Percent is -0.615\n",
      "Percent is -0.615\n",
      "Percent is -0.645\n",
      "Percent is -0.645\n",
      "Percent is -0.676\n",
      "Percent is -0.676\n",
      "Percent is -0.676\n",
      "Percent is -0.615\n"
     ]
    },
    {
     "output_type": "error",
     "ename": "KeyboardInterrupt",
     "evalue": "",
     "traceback": [
      "\u001b[1;31m---------------------------------------------------------------------------\u001b[0m",
      "\u001b[1;31mKeyboardInterrupt\u001b[0m                         Traceback (most recent call last)",
      "\u001b[1;32m<ipython-input-17-4dbe7decf771>\u001b[0m in \u001b[0;36m<module>\u001b[1;34m\u001b[0m\n\u001b[0;32m     21\u001b[0m     \u001b[1;31m#print(f\"Took {seconds_elapsed} seconds\")\u001b[0m\u001b[1;33m\u001b[0m\u001b[1;33m\u001b[0m\u001b[1;33m\u001b[0m\u001b[0m\n\u001b[0;32m     22\u001b[0m \u001b[1;33m\u001b[0m\u001b[0m\n\u001b[1;32m---> 23\u001b[1;33m     \u001b[0mtime\u001b[0m\u001b[1;33m.\u001b[0m\u001b[0msleep\u001b[0m\u001b[1;33m(\u001b[0m\u001b[0msleep_time_offers\u001b[0m\u001b[1;33m)\u001b[0m\u001b[1;33m\u001b[0m\u001b[1;33m\u001b[0m\u001b[0m\n\u001b[0m",
      "\u001b[1;31mKeyboardInterrupt\u001b[0m: "
     ]
    }
   ],
   "source": [
    "while True:\n",
    "    start_time = dt.now()\n",
    "    buy = bsc.get_offer(op='buy',amount=AMOUNT,isQuote=False)\n",
    "    sell = bsc.get_offer(op='sell',amount=AMOUNT,isQuote=False)\n",
    "\n",
    "    calculated_percent = percent(buy['efPrice'],sell['efPrice'])\n",
    "    print(f\"Percent is {calculated_percent}\")\n",
    "\n",
    "    if(calculated_percent >= MIN_PERCENT_REQUIRED):\n",
    "        print(f\"Arbitrage oportunity: buy:{buy['efPrice']}   sell:{sell['efPrice']}\")\n",
    "        playsound('beep.wav')\n",
    "        #Execute orders\n",
    "        executed_sell = bsc.confirm_offer(sell['offerId'])\n",
    "        executed_buy = bsc.confirm_offer(buy['offerId'])\n",
    "        last_balance = bsc.get_balance()\n",
    "        break\n",
    "\n",
    "\n",
    "    end_time = dt.now()\n",
    "    seconds_elapsed = (end_time - start_time).total_seconds()\n",
    "\n",
    "    #print(f\"Took {seconds_elapsed} seconds\")\n",
    "    \n",
    "    time.sleep(sleep_time_offers)"
   ]
  },
  {
   "cell_type": "code",
   "execution_count": null,
   "metadata": {},
   "outputs": [],
   "source": [
    "#thread_buy = threading.Thread(target=offerFunc,args=('buy',AMOUNT,False,buy))\n",
    "#thread_sell = threading.Thread(target=offerFunc,args=('sell',AMOUNT,False,sell))\n",
    "#thread_buy.start()\n",
    "#thread_sell.start()\n",
    "#thread_buy.join()\n",
    "#thread_sell.join()\n"
   ]
  }
 ]
}