{
 "metadata": {
  "language_info": {
   "codemirror_mode": {
    "name": "ipython",
    "version": 3
   },
   "file_extension": ".py",
   "mimetype": "text/x-python",
   "name": "python",
   "nbconvert_exporter": "python",
   "pygments_lexer": "ipython3",
   "version": "3.9.4"
  },
  "orig_nbformat": 2,
  "kernelspec": {
   "name": "python394jvsc74a57bd0d1923312bdd1ecdaed4c03ef9f030b61bfc0be630f081d4aef47785cf6a28ea0",
   "display_name": "Python 3.9.4 64-bit"
  },
  "metadata": {
   "interpreter": {
    "hash": "d1923312bdd1ecdaed4c03ef9f030b61bfc0be630f081d4aef47785cf6a28ea0"
   }
  }
 },
 "nbformat": 4,
 "nbformat_minor": 2,
 "cells": [
  {
   "cell_type": "code",
   "execution_count": 5,
   "metadata": {},
   "outputs": [],
   "source": [
    "import time\n",
    "from datetime import datetime as dt\n",
    "from biscoint_api_python import Biscoint\n",
    "from playsound import playsound\n",
    "import threading\n",
    "from utils import percent, btcToTrade\n",
    "from configs import logging\n",
    "from configs import API_KEY,API_SECRET,AMOUNT,MIN_PERCENT_REQUIRED,BASE_URL,BRL_AMOUNT_TRADE"
   ]
  },
  {
   "cell_type": "code",
   "execution_count": 6,
   "metadata": {},
   "outputs": [],
   "source": [
    "bsc = Biscoint(API_KEY, API_SECRET)\n",
    "endpoints_meta = bsc.get_meta()\n",
    "rate_limit_offer = endpoints_meta['endpoints']['offer']['post']['rateLimit']\n",
    "sleep_time_offers = ((rate_limit_offer[\"windowMs\"] / rate_limit_offer[\"maxRequests\"]) / 1000)*2\n",
    "initial_balance = bsc.get_balance()\n",
    "last_balance = initial_balance\n",
    "ticker = bsc.get_ticker()\n",
    "amount_btc_to_trade = btcToTrade(BRL_AMOUNT_TRADE,ticker['askQuoteAmountRef'],ticker['bidBaseAmountRef'])"
   ]
  },
  {
   "cell_type": "code",
   "execution_count": 7,
   "metadata": {},
   "outputs": [],
   "source": [
    "def async_offer(op:str,amount:str,isQuote:bool):\n",
    "    response = None\n",
    "    try:\n",
    "        response = bsc.get_offer(op,amount,isQuote) \n",
    "        request_orders[op] = response\n",
    "    except Exception as e:\n",
    "        print(response)\n",
    "        print(\"Erro ao rodar thread\",e)"
   ]
  },
  {
   "cell_type": "code",
   "execution_count": 8,
   "metadata": {
    "tags": []
   },
   "outputs": [
    {
     "output_type": "stream",
     "name": "stderr",
     "text": [
      "Percent is -1.033 | Cycle 1\n",
      "Percent is -1.21 | Cycle 2\n",
      "Percent is -1.21 | Cycle 3\n",
      "None\n",
      "Erro ao rodar thread 403 Client Error: Forbidden for url: https://api.biscoint.io/v1/offer\n",
      "Percent is -1.033 | Cycle 4\n",
      "Percent is -0.697 | Cycle 5\n",
      "Percent Record Reached!! : -0.697\n",
      "None\n",
      "Erro ao rodar thread 403 Client Error: Forbidden for url: https://api.biscoint.io/v1/offer\n",
      "Percent is -0.697 | Cycle 6\n",
      "Percent is -0.697 | Cycle 7\n",
      "Percent is -0.715 | Cycle 8\n",
      "None\n",
      "Erro ao rodar thread 403 Client Error: Forbidden for url: https://api.biscoint.io/v1/offer\n",
      "Percent is -0.715 | Cycle 9\n",
      "Percent is -0.697 | Cycle 10\n",
      "None\n",
      "Erro ao rodar thread 403 Client Error: Forbidden for url: https://api.biscoint.io/v1/offer\n",
      "None\n",
      "Erro ao rodar thread 403 Client Error: Forbidden for url: https://api.biscoint.io/v1/offer\n",
      "Percent is -0.661 | Cycle 11\n",
      "Percent Record Reached!! : -0.661\n",
      "Percent is -0.644 | Cycle 12\n",
      "Percent Record Reached!! : -0.644\n",
      "Percent is -0.644 | Cycle 13\n",
      "None\n",
      "Erro ao rodar thread 403 Client Error: Forbidden for url: https://api.biscoint.io/v1/offer\n",
      "Percent is -0.644 | Cycle 14\n",
      "Percent is -0.644 | Cycle 15\n",
      "Percent is -0.644 | Cycle 16\n"
     ]
    },
    {
     "output_type": "error",
     "ename": "KeyboardInterrupt",
     "evalue": "",
     "traceback": [
      "\u001b[1;31m---------------------------------------------------------------------------\u001b[0m",
      "\u001b[1;31mKeyboardInterrupt\u001b[0m                         Traceback (most recent call last)",
      "\u001b[1;32m<ipython-input-8-ea4564eadf28>\u001b[0m in \u001b[0;36m<module>\u001b[1;34m\u001b[0m\n\u001b[0;32m     15\u001b[0m     \u001b[0mtime\u001b[0m\u001b[1;33m.\u001b[0m\u001b[0msleep\u001b[0m\u001b[1;33m(\u001b[0m\u001b[1;36m0.1\u001b[0m\u001b[1;33m)\u001b[0m\u001b[1;33m\u001b[0m\u001b[1;33m\u001b[0m\u001b[0m\n\u001b[0;32m     16\u001b[0m     \u001b[0mthread_sell\u001b[0m\u001b[1;33m.\u001b[0m\u001b[0mstart\u001b[0m\u001b[1;33m(\u001b[0m\u001b[1;33m)\u001b[0m\u001b[1;33m\u001b[0m\u001b[1;33m\u001b[0m\u001b[0m\n\u001b[1;32m---> 17\u001b[1;33m     \u001b[0mthread_buy\u001b[0m\u001b[1;33m.\u001b[0m\u001b[0mjoin\u001b[0m\u001b[1;33m(\u001b[0m\u001b[1;33m)\u001b[0m\u001b[1;33m\u001b[0m\u001b[1;33m\u001b[0m\u001b[0m\n\u001b[0m\u001b[0;32m     18\u001b[0m     \u001b[0mthread_sell\u001b[0m\u001b[1;33m.\u001b[0m\u001b[0mjoin\u001b[0m\u001b[1;33m(\u001b[0m\u001b[1;33m)\u001b[0m\u001b[1;33m\u001b[0m\u001b[1;33m\u001b[0m\u001b[0m\n\u001b[0;32m     19\u001b[0m \u001b[1;33m\u001b[0m\u001b[0m\n",
      "\u001b[1;32m~\\AppData\\Local\\Programs\\Python\\Python39\\lib\\threading.py\u001b[0m in \u001b[0;36mjoin\u001b[1;34m(self, timeout)\u001b[0m\n\u001b[0;32m   1031\u001b[0m \u001b[1;33m\u001b[0m\u001b[0m\n\u001b[0;32m   1032\u001b[0m         \u001b[1;32mif\u001b[0m \u001b[0mtimeout\u001b[0m \u001b[1;32mis\u001b[0m \u001b[1;32mNone\u001b[0m\u001b[1;33m:\u001b[0m\u001b[1;33m\u001b[0m\u001b[1;33m\u001b[0m\u001b[0m\n\u001b[1;32m-> 1033\u001b[1;33m             \u001b[0mself\u001b[0m\u001b[1;33m.\u001b[0m\u001b[0m_wait_for_tstate_lock\u001b[0m\u001b[1;33m(\u001b[0m\u001b[1;33m)\u001b[0m\u001b[1;33m\u001b[0m\u001b[1;33m\u001b[0m\u001b[0m\n\u001b[0m\u001b[0;32m   1034\u001b[0m         \u001b[1;32melse\u001b[0m\u001b[1;33m:\u001b[0m\u001b[1;33m\u001b[0m\u001b[1;33m\u001b[0m\u001b[0m\n\u001b[0;32m   1035\u001b[0m             \u001b[1;31m# the behavior of a negative timeout isn't documented, but\u001b[0m\u001b[1;33m\u001b[0m\u001b[1;33m\u001b[0m\u001b[1;33m\u001b[0m\u001b[0m\n",
      "\u001b[1;32m~\\AppData\\Local\\Programs\\Python\\Python39\\lib\\threading.py\u001b[0m in \u001b[0;36m_wait_for_tstate_lock\u001b[1;34m(self, block, timeout)\u001b[0m\n\u001b[0;32m   1047\u001b[0m         \u001b[1;32mif\u001b[0m \u001b[0mlock\u001b[0m \u001b[1;32mis\u001b[0m \u001b[1;32mNone\u001b[0m\u001b[1;33m:\u001b[0m  \u001b[1;31m# already determined that the C code is done\u001b[0m\u001b[1;33m\u001b[0m\u001b[1;33m\u001b[0m\u001b[0m\n\u001b[0;32m   1048\u001b[0m             \u001b[1;32massert\u001b[0m \u001b[0mself\u001b[0m\u001b[1;33m.\u001b[0m\u001b[0m_is_stopped\u001b[0m\u001b[1;33m\u001b[0m\u001b[1;33m\u001b[0m\u001b[0m\n\u001b[1;32m-> 1049\u001b[1;33m         \u001b[1;32melif\u001b[0m \u001b[0mlock\u001b[0m\u001b[1;33m.\u001b[0m\u001b[0macquire\u001b[0m\u001b[1;33m(\u001b[0m\u001b[0mblock\u001b[0m\u001b[1;33m,\u001b[0m \u001b[0mtimeout\u001b[0m\u001b[1;33m)\u001b[0m\u001b[1;33m:\u001b[0m\u001b[1;33m\u001b[0m\u001b[1;33m\u001b[0m\u001b[0m\n\u001b[0m\u001b[0;32m   1050\u001b[0m             \u001b[0mlock\u001b[0m\u001b[1;33m.\u001b[0m\u001b[0mrelease\u001b[0m\u001b[1;33m(\u001b[0m\u001b[1;33m)\u001b[0m\u001b[1;33m\u001b[0m\u001b[1;33m\u001b[0m\u001b[0m\n\u001b[0;32m   1051\u001b[0m             \u001b[0mself\u001b[0m\u001b[1;33m.\u001b[0m\u001b[0m_stop\u001b[0m\u001b[1;33m(\u001b[0m\u001b[1;33m)\u001b[0m\u001b[1;33m\u001b[0m\u001b[1;33m\u001b[0m\u001b[0m\n",
      "\u001b[1;31mKeyboardInterrupt\u001b[0m: "
     ]
    }
   ],
   "source": [
    "# Arbitrage Cycle\n",
    "cycle_count = 1\n",
    "percent_record = -1\n",
    "request_orders = {'buy':None,'sell':None}\n",
    "while True:\n",
    "    start_time = dt.now()\n",
    "    #buy = bsc.get_offer(op='buy',amount=str(amount_btc_to_trade),isQuote=False)\n",
    "    #sell = bsc.get_offer(op='sell',amount=str(amount_btc_to_trade),isQuote=False)\n",
    "\n",
    "\n",
    "\n",
    "    thread_buy = threading.Thread(target=async_offer,args=('buy',AMOUNT,False))\n",
    "    thread_sell = threading.Thread(target=async_offer,args=('sell',AMOUNT,False))\n",
    "    thread_buy.start()\n",
    "    time.sleep(0.1)\n",
    "    thread_sell.start()\n",
    "    thread_buy.join()\n",
    "    thread_sell.join()\n",
    "\n",
    "\n",
    "    calculated_percent = percent(request_orders['buy']['efPrice'],request_orders['sell']['efPrice'])\n",
    "    logging.info(f\"Percent is {calculated_percent} | Cycle {cycle_count}\")\n",
    "\n",
    "    if calculated_percent > percent_record:\n",
    "        logging.info(f\"Percent Record Reached!! : {calculated_percent}\")\n",
    "        percent_record = calculated_percent\n",
    "\n",
    "    if(calculated_percent >= MIN_PERCENT_REQUIRED):\n",
    "        logging.info(f\"Arbitrage oportunity: buy:{request_orders['buy']['efPrice']}   sell:{request_orders['sell']['efPrice']}\")\n",
    "        playsound('beep.wav')\n",
    "        #Execute orders\n",
    "        executed_buy = bsc.confirm_offer(request_orders['buy']['offerId'])\n",
    "        executed_sell = bsc.confirm_offer(request_orders['sell']['offerId'])\n",
    "        logging.success(executed_buy)\n",
    "        logging.success(executed_sell)\n",
    "\n",
    "        last_balance = bsc.get_balance()\n",
    "        logging.info(f\"New Balance is: {last_balance}\")\n",
    "        break\n",
    "\n",
    "    end_time = dt.now()\n",
    "    seconds_elapsed = (end_time - start_time).total_seconds()\n",
    "    logging.debug(f\"Cycle took {seconds_elapsed} seconds\")\n",
    "\n",
    "    #print(f\"Took {seconds_elapsed} seconds\")\n",
    "    if cycle_count % 2 == 0:\n",
    "        try:\n",
    "            ticker = bsc.get_ticker()\n",
    "            amount_btc_to_trade = btcToTrade(BRL_AMOUNT_TRADE,ticker['askQuoteAmountRef'],ticker['bidBaseAmountRef'])\n",
    "        except Exception as e:\n",
    "            pass\n",
    "\n",
    "    cycle_count +=1\n",
    "\n",
    "    # if spead is high, sleep\n",
    "    if calculated_percent < -0.3:\n",
    "        time.sleep(sleep_time_offers)\n",
    "    else:\n",
    "        time.sleep(1)"
   ]
  },
  {
   "cell_type": "code",
   "execution_count": null,
   "metadata": {},
   "outputs": [],
   "source": [
    "#thread_buy = threading.Thread(target=offerFunc,args=('buy',AMOUNT,False,buy))\n",
    "#thread_sell = threading.Thread(target=offerFunc,args=('sell',AMOUNT,False,sell))\n",
    "#thread_buy.start()\n",
    "#thread_sell.start()\n",
    "#thread_buy.join()\n",
    "#thread_sell.join()\n"
   ]
  }
 ]
}