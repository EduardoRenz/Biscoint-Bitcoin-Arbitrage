{
 "metadata": {
  "language_info": {
   "codemirror_mode": {
    "name": "ipython",
    "version": 3
   },
   "file_extension": ".py",
   "mimetype": "text/x-python",
   "name": "python",
   "nbconvert_exporter": "python",
   "pygments_lexer": "ipython3",
   "version": "3.9.4"
  },
  "orig_nbformat": 2,
  "kernelspec": {
   "name": "python394jvsc74a57bd0d1923312bdd1ecdaed4c03ef9f030b61bfc0be630f081d4aef47785cf6a28ea0",
   "display_name": "Python 3.9.4 64-bit"
  },
  "metadata": {
   "interpreter": {
    "hash": "d1923312bdd1ecdaed4c03ef9f030b61bfc0be630f081d4aef47785cf6a28ea0"
   }
  }
 },
 "nbformat": 4,
 "nbformat_minor": 2,
 "cells": [
  {
   "cell_type": "code",
   "execution_count": 1,
   "metadata": {},
   "outputs": [],
   "source": [
    "import time\n",
    "from datetime import datetime as dt\n",
    "from biscoint_api_python import Biscoint\n",
    "from playsound import playsound\n",
    "from utils import percent\n",
    "from configs import logging\n",
    "from configs import API_KEY,API_SECRET,AMOUNT,MIN_PERCENT_REQUIRED,BASE_URL"
   ]
  },
  {
   "cell_type": "code",
   "execution_count": 2,
   "metadata": {},
   "outputs": [],
   "source": [
    "bsc = Biscoint(API_KEY, API_SECRET)\n",
    "endpoints_meta = bsc.get_meta()\n",
    "rate_limit_offer = endpoints_meta['endpoints']['offer']['post']['rateLimit']\n",
    "sleep_time_offers = ((rate_limit_offer[\"windowMs\"] / rate_limit_offer[\"maxRequests\"]) / 1000)*2\n",
    "initial_balance = bsc.get_balance()\n",
    "last_balance = initial_balance"
   ]
  },
  {
   "cell_type": "code",
   "execution_count": 3,
   "metadata": {},
   "outputs": [
    {
     "output_type": "execute_result",
     "data": {
      "text/plain": [
       "{'withdrawal': {'BTC': {'rate': '0.0',\n",
       "   'fixed': {'slow': '0.00051', 'normal': '0.00061', 'fast': '0.00073'}},\n",
       "  'BRL': {'rate': '0.0',\n",
       "   'fixed': {'ted': '14.90', 'sameBankTransfer': '14.90'}}}}"
      ]
     },
     "metadata": {},
     "execution_count": 3
    }
   ],
   "source": [
    "#requests.get(f\"{BASE_URL}/fees\").json()\n",
    "bsc.get_fees()"
   ]
  },
  {
   "cell_type": "code",
   "execution_count": 12,
   "metadata": {},
   "outputs": [
    {
     "output_type": "stream",
     "name": "stdout",
     "text": [
      "{'offerId': 'A3XbE8T2X9865td78', 'base': 'BTC', 'quote': 'BRL', 'op': 'buy', 'isQuote': False, 'baseAmount': '0.00010000', 'quoteAmount': '32.60', 'efPrice': '326000.00', 'createdAt': '2021-04-19T10:27:42.064Z', 'expiresAt': '2021-04-19T10:27:57.064Z', 'apiKeyId': 'vo3Jt2cEmvPxQZ7NS'}\n"
     ]
    },
    {
     "output_type": "error",
     "ename": "HTTPError",
     "evalue": "403 Client Error: Forbidden for url: https://api.biscoint.io/v1/offer/confirm",
     "traceback": [
      "\u001b[1;31m---------------------------------------------------------------------------\u001b[0m",
      "\u001b[1;31mHTTPError\u001b[0m                                 Traceback (most recent call last)",
      "\u001b[1;32m<ipython-input-12-3d9d2499290e>\u001b[0m in \u001b[0;36m<module>\u001b[1;34m\u001b[0m\n\u001b[0;32m      2\u001b[0m \u001b[0mprint\u001b[0m\u001b[1;33m(\u001b[0m\u001b[0mbuy\u001b[0m\u001b[1;33m)\u001b[0m\u001b[1;33m\u001b[0m\u001b[1;33m\u001b[0m\u001b[0m\n\u001b[0;32m      3\u001b[0m \u001b[1;33m\u001b[0m\u001b[0m\n\u001b[1;32m----> 4\u001b[1;33m \u001b[0mbsc\u001b[0m\u001b[1;33m.\u001b[0m\u001b[0mconfirm_offer\u001b[0m\u001b[1;33m(\u001b[0m\u001b[0mbuy\u001b[0m\u001b[1;33m[\u001b[0m\u001b[1;34m'offerId'\u001b[0m\u001b[1;33m]\u001b[0m\u001b[1;33m)\u001b[0m\u001b[1;33m\u001b[0m\u001b[1;33m\u001b[0m\u001b[0m\n\u001b[0m",
      "\u001b[1;32m~\\AppData\\Local\\Programs\\Python\\Python39\\lib\\site-packages\\biscoint_api_python\\__init__.py\u001b[0m in \u001b[0;36mconfirm_offer\u001b[1;34m(self, offer_id)\u001b[0m\n\u001b[0;32m    228\u001b[0m                     }\n\u001b[0;32m    229\u001b[0m         \"\"\"\n\u001b[1;32m--> 230\u001b[1;33m         return self._call('offer/confirm', {\n\u001b[0m\u001b[0;32m    231\u001b[0m             \u001b[1;34m'offerId'\u001b[0m\u001b[1;33m:\u001b[0m \u001b[0moffer_id\u001b[0m\u001b[1;33m,\u001b[0m\u001b[1;33m\u001b[0m\u001b[1;33m\u001b[0m\u001b[0m\n\u001b[0;32m    232\u001b[0m         }, add_auth=True, method='post')\n",
      "\u001b[1;32m~\\AppData\\Local\\Programs\\Python\\Python39\\lib\\site-packages\\biscoint_api_python\\__init__.py\u001b[0m in \u001b[0;36m_call\u001b[1;34m(self, endpoint, params, method, add_auth)\u001b[0m\n\u001b[0;32m    276\u001b[0m         )\n\u001b[0;32m    277\u001b[0m \u001b[1;33m\u001b[0m\u001b[0m\n\u001b[1;32m--> 278\u001b[1;33m         \u001b[0mres\u001b[0m\u001b[1;33m.\u001b[0m\u001b[0mraise_for_status\u001b[0m\u001b[1;33m(\u001b[0m\u001b[1;33m)\u001b[0m\u001b[1;33m\u001b[0m\u001b[1;33m\u001b[0m\u001b[0m\n\u001b[0m\u001b[0;32m    279\u001b[0m \u001b[1;33m\u001b[0m\u001b[0m\n\u001b[0;32m    280\u001b[0m         \u001b[0mres_json\u001b[0m \u001b[1;33m=\u001b[0m \u001b[0mres\u001b[0m\u001b[1;33m.\u001b[0m\u001b[0mjson\u001b[0m\u001b[1;33m(\u001b[0m\u001b[1;33m)\u001b[0m\u001b[1;33m\u001b[0m\u001b[1;33m\u001b[0m\u001b[0m\n",
      "\u001b[1;32m~\\AppData\\Local\\Programs\\Python\\Python39\\lib\\site-packages\\requests\\models.py\u001b[0m in \u001b[0;36mraise_for_status\u001b[1;34m(self)\u001b[0m\n\u001b[0;32m    941\u001b[0m \u001b[1;33m\u001b[0m\u001b[0m\n\u001b[0;32m    942\u001b[0m         \u001b[1;32mif\u001b[0m \u001b[0mhttp_error_msg\u001b[0m\u001b[1;33m:\u001b[0m\u001b[1;33m\u001b[0m\u001b[1;33m\u001b[0m\u001b[0m\n\u001b[1;32m--> 943\u001b[1;33m             \u001b[1;32mraise\u001b[0m \u001b[0mHTTPError\u001b[0m\u001b[1;33m(\u001b[0m\u001b[0mhttp_error_msg\u001b[0m\u001b[1;33m,\u001b[0m \u001b[0mresponse\u001b[0m\u001b[1;33m=\u001b[0m\u001b[0mself\u001b[0m\u001b[1;33m)\u001b[0m\u001b[1;33m\u001b[0m\u001b[1;33m\u001b[0m\u001b[0m\n\u001b[0m\u001b[0;32m    944\u001b[0m \u001b[1;33m\u001b[0m\u001b[0m\n\u001b[0;32m    945\u001b[0m     \u001b[1;32mdef\u001b[0m \u001b[0mclose\u001b[0m\u001b[1;33m(\u001b[0m\u001b[0mself\u001b[0m\u001b[1;33m)\u001b[0m\u001b[1;33m:\u001b[0m\u001b[1;33m\u001b[0m\u001b[1;33m\u001b[0m\u001b[0m\n",
      "\u001b[1;31mHTTPError\u001b[0m: 403 Client Error: Forbidden for url: https://api.biscoint.io/v1/offer/confirm"
     ]
    }
   ],
   "source": [
    "buy = bsc.get_offer(op='buy',amount=AMOUNT,isQuote=False)\n",
    "print(buy)\n",
    "\n",
    "bsc.confirm_offer(buy['offerId'])"
   ]
  },
  {
   "cell_type": "code",
   "execution_count": 17,
   "metadata": {
    "tags": []
   },
   "outputs": [
    {
     "output_type": "stream",
     "name": "stdout",
     "text": [
      "Percent is -0.676\n",
      "Percent is -0.615\n",
      "Percent is -0.615\n",
      "Percent is -0.645\n",
      "Percent is -0.645\n",
      "Percent is -0.676\n",
      "Percent is -0.676\n",
      "Percent is -0.676\n",
      "Percent is -0.615\n"
     ]
    },
    {
     "output_type": "error",
     "ename": "KeyboardInterrupt",
     "evalue": "",
     "traceback": [
      "\u001b[1;31m---------------------------------------------------------------------------\u001b[0m",
      "\u001b[1;31mKeyboardInterrupt\u001b[0m                         Traceback (most recent call last)",
      "\u001b[1;32m<ipython-input-17-4dbe7decf771>\u001b[0m in \u001b[0;36m<module>\u001b[1;34m\u001b[0m\n\u001b[0;32m     21\u001b[0m     \u001b[1;31m#print(f\"Took {seconds_elapsed} seconds\")\u001b[0m\u001b[1;33m\u001b[0m\u001b[1;33m\u001b[0m\u001b[1;33m\u001b[0m\u001b[0m\n\u001b[0;32m     22\u001b[0m \u001b[1;33m\u001b[0m\u001b[0m\n\u001b[1;32m---> 23\u001b[1;33m     \u001b[0mtime\u001b[0m\u001b[1;33m.\u001b[0m\u001b[0msleep\u001b[0m\u001b[1;33m(\u001b[0m\u001b[0msleep_time_offers\u001b[0m\u001b[1;33m)\u001b[0m\u001b[1;33m\u001b[0m\u001b[1;33m\u001b[0m\u001b[0m\n\u001b[0m",
      "\u001b[1;31mKeyboardInterrupt\u001b[0m: "
     ]
    }
   ],
   "source": [
    "while True:\n",
    "    start_time = dt.now()\n",
    "    buy = bsc.get_offer(op='buy',amount=AMOUNT,isQuote=False)\n",
    "    sell = bsc.get_offer(op='sell',amount=AMOUNT,isQuote=False)\n",
    "\n",
    "    calculated_percent = percent(buy['efPrice'],sell['efPrice'])\n",
    "    print(f\"Percent is {calculated_percent}\")\n",
    "\n",
    "    if(calculated_percent >= MIN_PERCENT_REQUIRED):\n",
    "        print(f\"Arbitrage oportunity: buy:{buy['efPrice']}   sell:{sell['efPrice']}\")\n",
    "        playsound('beep.wav')\n",
    "        #Execute orders\n",
    "        executed_sell = bsc.confirm_offer(sell['offerId'])\n",
    "        executed_buy = bsc.confirm_offer(buy['offerId'])\n",
    "        last_balance = bsc.get_balance()\n",
    "        break\n",
    "\n",
    "\n",
    "    end_time = dt.now()\n",
    "    seconds_elapsed = (end_time - start_time).total_seconds()\n",
    "\n",
    "    #print(f\"Took {seconds_elapsed} seconds\")\n",
    "    \n",
    "    time.sleep(sleep_time_offers)"
   ]
  },
  {
   "cell_type": "code",
   "execution_count": null,
   "metadata": {},
   "outputs": [],
   "source": [
    "#thread_buy = threading.Thread(target=offerFunc,args=('buy',AMOUNT,False,buy))\n",
    "#thread_sell = threading.Thread(target=offerFunc,args=('sell',AMOUNT,False,sell))\n",
    "#thread_buy.start()\n",
    "#thread_sell.start()\n",
    "#thread_buy.join()\n",
    "#thread_sell.join()\n"
   ]
  }
 ]
}