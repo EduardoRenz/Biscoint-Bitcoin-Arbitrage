{
 "metadata": {
  "language_info": {
   "codemirror_mode": {
    "name": "ipython",
    "version": 3
   },
   "file_extension": ".py",
   "mimetype": "text/x-python",
   "name": "python",
   "nbconvert_exporter": "python",
   "pygments_lexer": "ipython3",
   "version": "3.8.10"
  },
  "orig_nbformat": 2,
  "kernelspec": {
   "name": "python3",
   "display_name": "Python 3.8.10 64-bit"
  },
  "metadata": {
   "interpreter": {
    "hash": "d1923312bdd1ecdaed4c03ef9f030b61bfc0be630f081d4aef47785cf6a28ea0"
   }
  },
  "interpreter": {
   "hash": "916dbcbb3f70747c44a77c7bcd40155683ae19c65e1c03b4aa3499c5328201f1"
  }
 },
 "nbformat": 4,
 "nbformat_minor": 2,
 "cells": [
  {
   "cell_type": "code",
   "execution_count": 2,
   "source": [
    "import time\n",
    "from datetime import datetime as dt\n",
    "from biscoint_api_python import Biscoint\n",
    "from playsound import playsound\n",
    "import threading\n",
    "from utils import percent, btcToTrade, showCycle\n",
    "from configs import logging\n",
    "from configs import API_KEY, API_SECRET, MIN_PERCENT_REQUIRED,BASE_URL, BRL_AMOUNT_TRADE, UPDATE_TICK_RATE"
   ],
   "outputs": [],
   "metadata": {}
  },
  {
   "cell_type": "code",
   "execution_count": 3,
   "source": [
    "bsc = Biscoint(API_KEY, API_SECRET)\n",
    "endpoints_meta = bsc.get_meta()\n",
    "rate_limit_offer = endpoints_meta['endpoints']['offer']['post']['rateLimit']\n",
    "sleep_time_offers = ((rate_limit_offer[\"windowMs\"] / rate_limit_offer[\"maxRequests\"]) / 1000)*2\n",
    "initial_balance = bsc.get_balance()\n",
    "last_balance = initial_balance\n",
    "ticker = bsc.get_ticker()\n",
    "amount_btc_to_trade = btcToTrade(BRL_AMOUNT_TRADE,ticker['askQuoteAmountRef'],ticker['bidBaseAmountRef'])"
   ],
   "outputs": [],
   "metadata": {}
  },
  {
   "cell_type": "code",
   "execution_count": 4,
   "source": [
    "def async_offer(op:str,amount:str,isQuote:bool):\n",
    "    response = None\n",
    "    try:\n",
    "        response = bsc.get_offer(op,amount,isQuote) \n",
    "        request_orders[op] = response\n",
    "    except Exception as e:\n",
    "        print(response)\n",
    "        print(\"Erro ao rodar thread\",e)\n",
    "\n",
    "def updateTick(cycle_count):\n",
    "    global ticker\n",
    "    global amount_btc_to_trade\n",
    "    if cycle_count % UPDATE_TICK_RATE == 0:\n",
    "        try:\n",
    "            ticker = bsc.get_ticker()\n",
    "            amount_btc_to_trade =  btcToTrade(BRL_AMOUNT_TRADE,ticker['askQuoteAmountRef'],ticker['bidBaseAmountRef'])\n",
    "        except Exception as e:\n",
    "            logging.error(f\"Error on updating tick {e}\")\n",
    "\n",
    "# if spread is high, sleep, else speed up checks\n",
    "def waitForNextCycle(calculated_percent):\n",
    "    if calculated_percent < -0.3:\n",
    "        time.sleep(sleep_time_offers)\n",
    "    else:\n",
    "        time.sleep(2)\n",
    "\n",
    "def async_confirm(offerId:str):\n",
    "    response = None\n",
    "    try:\n",
    "        executed = bsc.confirm_offer(offerId)\n",
    "        logging.info(executed)\n",
    "    except Exception as e:\n",
    "        print(response)\n",
    "        print(\"Erro ao rodar thread\",e)\n"
   ],
   "outputs": [],
   "metadata": {}
  },
  {
   "cell_type": "code",
   "execution_count": 7,
   "source": [
    "# Arbitrage Cycle\n",
    "cycle_count = 1\n",
    "percent_record = -1\n",
    "request_orders = {'buy':None,'sell':None}\n",
    "while True:\n",
    "    try:\n",
    "        start_time = dt.now()\n",
    "        # Get buy and sell offers of this cycle\n",
    "        buy = bsc.get_offer(op='buy',amount=str(amount_btc_to_trade),isQuote=False)\n",
    "        sell = bsc.get_offer(op='sell',amount=str(amount_btc_to_trade),isQuote=False)\n",
    "        # Calculate if arbitrage is possible\n",
    "        calculated_percent = percent(buy['efPrice'],sell['efPrice'])\n",
    "\n",
    "        showCycle(cycle_count,calculated_percent)\n",
    "        \n",
    "        if calculated_percent > percent_record:\n",
    "            logging.info(f\"Percent Record Reached!! : {calculated_percent} at {dt.now()}\")\n",
    "            percent_record = calculated_percent\n",
    "        # If Arbitrage is possible, confirm offers\n",
    "        if calculated_percent >= MIN_PERCENT_REQUIRED:\n",
    "            logging.info(f\"Arbitrage oportunity: buy:{buy['efPrice']}   sell:{sell['efPrice']}\")\n",
    "            playsound('beep.wav')\n",
    "            \n",
    "            #Execute orders\n",
    "            if float(last_balance['BRL']) < float(55):\n",
    "                executed_sell = bsc.confirm_offer(sell['offerId'])\n",
    "                executed_buy = bsc.confirm_offer(buy['offerId'])\n",
    "            else:\n",
    "                executed_buy = bsc.confirm_offer(buy['offerId'])\n",
    "                executed_sell = bsc.confirm_offer(sell['offerId'])\n",
    "\n",
    "\n",
    "            logging.info(executed_buy)\n",
    "            logging.info(executed_sell)\n",
    "\n",
    "            last_balance = bsc.get_balance()\n",
    "            logging.info(f\"New Balance is: {last_balance}\")\n",
    "            \n",
    "\n",
    "        end_time = dt.now()\n",
    "        seconds_elapsed = (end_time - start_time).total_seconds()\n",
    "        logging.debug(f\"Cycle took {seconds_elapsed} seconds\")\n",
    "        cycle_count +=1\n",
    "\n",
    "        updateTick(cycle_count)\n",
    "        waitForNextCycle(calculated_percent)\n",
    "    except Exception as e:\n",
    "        logging.error(e)"
   ],
   "outputs": [
    {
     "output_type": "stream",
     "name": "stderr",
     "text": [
      "Percent Record Reached!! : -0.883 at 2021-10-04 18:06:53.034175\n",
      "Percent Record Reached!! : -0.865 at 2021-10-04 18:06:57.905943\n",
      "Percent Record Reached!! : -0.74 at 2021-10-04 18:07:07.720196\n"
     ]
    },
    {
     "output_type": "error",
     "ename": "KeyboardInterrupt",
     "evalue": "",
     "traceback": [
      "\u001b[0;31m---------------------------------------------------------------------------\u001b[0m",
      "\u001b[0;31mKeyboardInterrupt\u001b[0m                         Traceback (most recent call last)",
      "\u001b[0;32m/tmp/ipykernel_91153/2239144935.py\u001b[0m in \u001b[0;36m<module>\u001b[0;34m\u001b[0m\n\u001b[1;32m     44\u001b[0m \u001b[0;34m\u001b[0m\u001b[0m\n\u001b[1;32m     45\u001b[0m         \u001b[0mupdateTick\u001b[0m\u001b[0;34m(\u001b[0m\u001b[0mcycle_count\u001b[0m\u001b[0;34m)\u001b[0m\u001b[0;34m\u001b[0m\u001b[0;34m\u001b[0m\u001b[0m\n\u001b[0;32m---> 46\u001b[0;31m         \u001b[0mwaitForNextCycle\u001b[0m\u001b[0;34m(\u001b[0m\u001b[0mcalculated_percent\u001b[0m\u001b[0;34m)\u001b[0m\u001b[0;34m\u001b[0m\u001b[0;34m\u001b[0m\u001b[0m\n\u001b[0m\u001b[1;32m     47\u001b[0m     \u001b[0;32mexcept\u001b[0m \u001b[0mException\u001b[0m \u001b[0;32mas\u001b[0m \u001b[0me\u001b[0m\u001b[0;34m:\u001b[0m\u001b[0;34m\u001b[0m\u001b[0;34m\u001b[0m\u001b[0m\n\u001b[1;32m     48\u001b[0m         \u001b[0mlogging\u001b[0m\u001b[0;34m.\u001b[0m\u001b[0merror\u001b[0m\u001b[0;34m(\u001b[0m\u001b[0me\u001b[0m\u001b[0;34m)\u001b[0m\u001b[0;34m\u001b[0m\u001b[0;34m\u001b[0m\u001b[0m\n",
      "\u001b[0;32m/tmp/ipykernel_91153/3698338169.py\u001b[0m in \u001b[0;36mwaitForNextCycle\u001b[0;34m(calculated_percent)\u001b[0m\n\u001b[1;32m     21\u001b[0m \u001b[0;32mdef\u001b[0m \u001b[0mwaitForNextCycle\u001b[0m\u001b[0;34m(\u001b[0m\u001b[0mcalculated_percent\u001b[0m\u001b[0;34m)\u001b[0m\u001b[0;34m:\u001b[0m\u001b[0;34m\u001b[0m\u001b[0;34m\u001b[0m\u001b[0m\n\u001b[1;32m     22\u001b[0m     \u001b[0;32mif\u001b[0m \u001b[0mcalculated_percent\u001b[0m \u001b[0;34m<\u001b[0m \u001b[0;34m-\u001b[0m\u001b[0;36m0.3\u001b[0m\u001b[0;34m:\u001b[0m\u001b[0;34m\u001b[0m\u001b[0;34m\u001b[0m\u001b[0m\n\u001b[0;32m---> 23\u001b[0;31m         \u001b[0mtime\u001b[0m\u001b[0;34m.\u001b[0m\u001b[0msleep\u001b[0m\u001b[0;34m(\u001b[0m\u001b[0msleep_time_offers\u001b[0m\u001b[0;34m)\u001b[0m\u001b[0;34m\u001b[0m\u001b[0;34m\u001b[0m\u001b[0m\n\u001b[0m\u001b[1;32m     24\u001b[0m     \u001b[0;32melse\u001b[0m\u001b[0;34m:\u001b[0m\u001b[0;34m\u001b[0m\u001b[0;34m\u001b[0m\u001b[0m\n\u001b[1;32m     25\u001b[0m         \u001b[0mtime\u001b[0m\u001b[0;34m.\u001b[0m\u001b[0msleep\u001b[0m\u001b[0;34m(\u001b[0m\u001b[0;36m2\u001b[0m\u001b[0;34m)\u001b[0m\u001b[0;34m\u001b[0m\u001b[0;34m\u001b[0m\u001b[0m\n",
      "\u001b[0;31mKeyboardInterrupt\u001b[0m: "
     ]
    }
   ],
   "metadata": {
    "tags": []
   }
  },
  {
   "cell_type": "code",
   "execution_count": 18,
   "source": [
    "#thread_buy = threading.Thread(target=offerFunc,args=('buy',AMOUNT,False,buy))\n",
    "#thread_sell = threading.Thread(target=offerFunc,args=('sell',AMOUNT,False,sell))\n",
    "#thread_buy.start()\n",
    "#thread_sell.start()\n",
    "#thread_buy.join()\n",
    "#thread_sell.join()\n"
   ],
   "outputs": [],
   "metadata": {}
  }
 ]
}