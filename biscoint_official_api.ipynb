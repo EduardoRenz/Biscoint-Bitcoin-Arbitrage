{
 "metadata": {
  "language_info": {
   "codemirror_mode": {
    "name": "ipython",
    "version": 3
   },
   "file_extension": ".py",
   "mimetype": "text/x-python",
   "name": "python",
   "nbconvert_exporter": "python",
   "pygments_lexer": "ipython3",
   "version": "3.9.4"
  },
  "orig_nbformat": 2,
  "kernelspec": {
   "name": "python394jvsc74a57bd0d1923312bdd1ecdaed4c03ef9f030b61bfc0be630f081d4aef47785cf6a28ea0",
   "display_name": "Python 3.9.4 64-bit"
  },
  "metadata": {
   "interpreter": {
    "hash": "d1923312bdd1ecdaed4c03ef9f030b61bfc0be630f081d4aef47785cf6a28ea0"
   }
  }
 },
 "nbformat": 4,
 "nbformat_minor": 2,
 "cells": [
  {
   "cell_type": "code",
   "execution_count": 1,
   "metadata": {},
   "outputs": [
    {
     "output_type": "execute_result",
     "data": {
      "text/plain": [
       "True"
      ]
     },
     "metadata": {},
     "execution_count": 1
    }
   ],
   "source": [
    "import json\n",
    "import requests\n",
    "import time\n",
    "from datetime import datetime as dt\n",
    "import hmac\n",
    "import hashlib\n",
    "import base64\n",
    "from biscoint_api_python import Biscoint\n",
    "from dotenv import load_dotenv\n",
    "import threading\n",
    "from playsound import playsound\n",
    "import utils\n",
    "load_dotenv()"
   ]
  },
  {
   "cell_type": "code",
   "execution_count": 2,
   "metadata": {},
   "outputs": [],
   "source": [
    "# Constants\n",
    "BASE_URL=\"https://api.biscoint.io/v1\"\n",
    "API_KEY = os.getenv('API_KEY') \n",
    "API_SECRET= os.getenv('API_SECRET') \n",
    "AMOUNT = '0.0001'\n",
    "MIN_PERCENT_REQUIRED = 0.2"
   ]
  },
  {
   "cell_type": "code",
   "execution_count": 3,
   "metadata": {},
   "outputs": [],
   "source": [
    "bsc = Biscoint(API_KEY, API_SECRET)\n",
    "endpoints_meta = bsc.get_meta()\n",
    "rate_limit_offer = endpoints_meta['endpoints']['offer']['post']['rateLimit']\n",
    "sleep_time_offers = ((rate_limit_offer[\"windowMs\"] / rate_limit_offer[\"maxRequests\"]) / 1000)*2\n",
    "initial_balance = bsc.get_balance()\n",
    "last_balance = initial_balance"
   ]
  },
  {
   "cell_type": "code",
   "execution_count": 4,
   "metadata": {},
   "outputs": [],
   "source": [
    "# Calulate the percent\n",
    "percent = lambda   value1, value2  :  round((float(value2) / float(value1) - 1) * 100,3)\n",
    "# minimal amount of br money to buy bitcoin\n",
    "can_buy = lambda brl,min_brl=10 : float(brl) >= float(min_brl)"
   ]
  },
  {
   "cell_type": "code",
   "execution_count": 5,
   "metadata": {},
   "outputs": [
    {
     "output_type": "execute_result",
     "data": {
      "text/plain": [
       "{'withdrawal': {'BTC': {'rate': '0.0',\n",
       "   'fixed': {'slow': '0.00056', 'normal': '0.00061', 'fast': '0.00064'}},\n",
       "  'BRL': {'rate': '0.0',\n",
       "   'fixed': {'ted': '14.90', 'sameBankTransfer': '14.90'}}}}"
      ]
     },
     "metadata": {},
     "execution_count": 5
    }
   ],
   "source": [
    "#requests.get(f\"{BASE_URL}/fees\").json()\n",
    "bsc.get_fees()"
   ]
  },
  {
   "cell_type": "code",
   "execution_count": 9,
   "metadata": {},
   "outputs": [
    {
     "output_type": "execute_result",
     "data": {
      "text/plain": [
       "'0.00'"
      ]
     },
     "metadata": {},
     "execution_count": 9
    }
   ],
   "source": [
    "last_balance['BRL']"
   ]
  },
  {
   "cell_type": "code",
   "execution_count": 6,
   "metadata": {},
   "outputs": [
    {
     "output_type": "error",
     "ename": "NameError",
     "evalue": "name 'buy' is not defined",
     "traceback": [
      "\u001b[1;31m---------------------------------------------------------------------------\u001b[0m",
      "\u001b[1;31mNameError\u001b[0m                                 Traceback (most recent call last)",
      "\u001b[1;32m<ipython-input-6-923f865ee931>\u001b[0m in \u001b[0;36m<module>\u001b[1;34m\u001b[0m\n\u001b[1;32m----> 1\u001b[1;33m \u001b[0mprint\u001b[0m\u001b[1;33m(\u001b[0m\u001b[0mbuy\u001b[0m\u001b[1;33m[\u001b[0m\u001b[1;34m'efPrice'\u001b[0m\u001b[1;33m]\u001b[0m\u001b[1;33m)\u001b[0m\u001b[1;33m\u001b[0m\u001b[1;33m\u001b[0m\u001b[0m\n\u001b[0m\u001b[0;32m      2\u001b[0m \u001b[0mprint\u001b[0m\u001b[1;33m(\u001b[0m\u001b[0msell\u001b[0m\u001b[1;33m[\u001b[0m\u001b[1;34m'efPrice'\u001b[0m\u001b[1;33m]\u001b[0m\u001b[1;33m)\u001b[0m\u001b[1;33m\u001b[0m\u001b[1;33m\u001b[0m\u001b[0m\n",
      "\u001b[1;31mNameError\u001b[0m: name 'buy' is not defined"
     ]
    }
   ],
   "source": [
    "print(buy['efPrice'])\n",
    "print(sell['efPrice'])"
   ]
  },
  {
   "cell_type": "code",
   "execution_count": 9,
   "metadata": {},
   "outputs": [
    {
     "output_type": "execute_result",
     "data": {
      "text/plain": [
       "{'offerId': 'w5kzgn34fDqqvfLf4',\n",
       " 'base': 'BTC',\n",
       " 'quote': 'BRL',\n",
       " 'op': 'sell',\n",
       " 'isQuote': False,\n",
       " 'baseAmount': '0.00010000',\n",
       " 'quoteAmount': '32.20',\n",
       " 'efPrice': '322000.00',\n",
       " 'createdAt': '2021-04-18T22:06:12.397Z',\n",
       " 'expiresAt': '2021-04-18T22:06:27.397Z',\n",
       " 'apiKeyId': 'vo3Jt2cEmvPxQZ7NS'}"
      ]
     },
     "metadata": {},
     "execution_count": 9
    }
   ],
   "source": [
    "sell"
   ]
  },
  {
   "cell_type": "code",
   "execution_count": 15,
   "metadata": {
    "tags": []
   },
   "outputs": [
    {
     "output_type": "stream",
     "name": "stdout",
     "text": [
      "Percent is -0.614\n",
      "Took 1.038706 seconds\n",
      "Percent is -0.645\n",
      "Took 0.82458 seconds\n",
      "Percent is -0.645\n",
      "Took 0.833411 seconds\n",
      "Percent is -0.645\n",
      "Took 0.89031 seconds\n",
      "Percent is -0.645\n",
      "Took 2.096712 seconds\n",
      "Percent is -0.645\n",
      "Took 0.92756 seconds\n",
      "Percent is -0.614\n",
      "Took 1.102462 seconds\n",
      "Percent is -0.614\n",
      "Took 1.902877 seconds\n",
      "Percent is -0.614\n",
      "Took 1.805712 seconds\n",
      "Percent is -0.614\n",
      "Took 1.09031 seconds\n",
      "Percent is -0.614\n",
      "Took 1.480976 seconds\n",
      "Percent is -0.614\n",
      "Took 1.139557 seconds\n",
      "Percent is -0.614\n",
      "Took 2.276219 seconds\n",
      "Percent is -0.645\n",
      "Took 1.211175 seconds\n",
      "Percent is -0.645\n",
      "Took 3.229384 seconds\n",
      "Percent is -0.645\n",
      "Took 1.73293 seconds\n",
      "Percent is -0.584\n",
      "Took 1.469288 seconds\n",
      "Percent is -0.768\n",
      "Took 2.864176 seconds\n",
      "Percent is -0.768\n",
      "Took 2.801328 seconds\n",
      "Percent is -0.768\n",
      "Took 3.103649 seconds\n",
      "Percent is -0.738\n",
      "Took 1.052321 seconds\n",
      "Percent is -0.738\n",
      "Took 3.251827 seconds\n",
      "Percent is -0.738\n",
      "Took 0.898338 seconds\n",
      "Percent is -0.738\n",
      "Took 0.94019 seconds\n"
     ]
    },
    {
     "output_type": "error",
     "ename": "HTTPError",
     "evalue": "403 Client Error: Forbidden for url: https://api.biscoint.io/v1/offer",
     "traceback": [
      "\u001b[1;31m---------------------------------------------------------------------------\u001b[0m",
      "\u001b[1;31mHTTPError\u001b[0m                                 Traceback (most recent call last)",
      "\u001b[1;32m<ipython-input-15-48a0e08d5f75>\u001b[0m in \u001b[0;36m<module>\u001b[1;34m\u001b[0m\n\u001b[0;32m      1\u001b[0m \u001b[1;32mwhile\u001b[0m \u001b[1;32mTrue\u001b[0m\u001b[1;33m:\u001b[0m\u001b[1;33m\u001b[0m\u001b[1;33m\u001b[0m\u001b[0m\n\u001b[0;32m      2\u001b[0m     \u001b[0mstart_time\u001b[0m \u001b[1;33m=\u001b[0m \u001b[0mdt\u001b[0m\u001b[1;33m.\u001b[0m\u001b[0mnow\u001b[0m\u001b[1;33m(\u001b[0m\u001b[1;33m)\u001b[0m\u001b[1;33m\u001b[0m\u001b[1;33m\u001b[0m\u001b[0m\n\u001b[1;32m----> 3\u001b[1;33m     \u001b[0mbuy\u001b[0m \u001b[1;33m=\u001b[0m \u001b[0mbsc\u001b[0m\u001b[1;33m.\u001b[0m\u001b[0mget_offer\u001b[0m\u001b[1;33m(\u001b[0m\u001b[0mop\u001b[0m\u001b[1;33m=\u001b[0m\u001b[1;34m'buy'\u001b[0m\u001b[1;33m,\u001b[0m\u001b[0mamount\u001b[0m\u001b[1;33m=\u001b[0m\u001b[0mAMOUNT\u001b[0m\u001b[1;33m,\u001b[0m\u001b[0misQuote\u001b[0m\u001b[1;33m=\u001b[0m\u001b[1;32mFalse\u001b[0m\u001b[1;33m)\u001b[0m\u001b[1;33m\u001b[0m\u001b[1;33m\u001b[0m\u001b[0m\n\u001b[0m\u001b[0;32m      4\u001b[0m     \u001b[0msell\u001b[0m \u001b[1;33m=\u001b[0m \u001b[0mbsc\u001b[0m\u001b[1;33m.\u001b[0m\u001b[0mget_offer\u001b[0m\u001b[1;33m(\u001b[0m\u001b[0mop\u001b[0m\u001b[1;33m=\u001b[0m\u001b[1;34m'sell'\u001b[0m\u001b[1;33m,\u001b[0m\u001b[0mamount\u001b[0m\u001b[1;33m=\u001b[0m\u001b[0mAMOUNT\u001b[0m\u001b[1;33m,\u001b[0m\u001b[0misQuote\u001b[0m\u001b[1;33m=\u001b[0m\u001b[1;32mFalse\u001b[0m\u001b[1;33m)\u001b[0m\u001b[1;33m\u001b[0m\u001b[1;33m\u001b[0m\u001b[0m\n\u001b[0;32m      5\u001b[0m \u001b[1;33m\u001b[0m\u001b[0m\n",
      "\u001b[1;32m~\\AppData\\Local\\Programs\\Python\\Python39\\lib\\site-packages\\biscoint_api_python\\__init__.py\u001b[0m in \u001b[0;36mget_offer\u001b[1;34m(self, op, amount, isQuote, base, quote)\u001b[0m\n\u001b[0;32m    197\u001b[0m                     }\n\u001b[0;32m    198\u001b[0m         \"\"\"\n\u001b[1;32m--> 199\u001b[1;33m         return self._call('offer', {\n\u001b[0m\u001b[0;32m    200\u001b[0m             \u001b[1;34m'op'\u001b[0m\u001b[1;33m:\u001b[0m \u001b[0mop\u001b[0m\u001b[1;33m,\u001b[0m\u001b[1;33m\u001b[0m\u001b[1;33m\u001b[0m\u001b[0m\n\u001b[0;32m    201\u001b[0m             \u001b[1;34m'amount'\u001b[0m\u001b[1;33m:\u001b[0m \u001b[0mamount\u001b[0m\u001b[1;33m,\u001b[0m\u001b[1;33m\u001b[0m\u001b[1;33m\u001b[0m\u001b[0m\n",
      "\u001b[1;32m~\\AppData\\Local\\Programs\\Python\\Python39\\lib\\site-packages\\biscoint_api_python\\__init__.py\u001b[0m in \u001b[0;36m_call\u001b[1;34m(self, endpoint, params, method, add_auth)\u001b[0m\n\u001b[0;32m    276\u001b[0m         )\n\u001b[0;32m    277\u001b[0m \u001b[1;33m\u001b[0m\u001b[0m\n\u001b[1;32m--> 278\u001b[1;33m         \u001b[0mres\u001b[0m\u001b[1;33m.\u001b[0m\u001b[0mraise_for_status\u001b[0m\u001b[1;33m(\u001b[0m\u001b[1;33m)\u001b[0m\u001b[1;33m\u001b[0m\u001b[1;33m\u001b[0m\u001b[0m\n\u001b[0m\u001b[0;32m    279\u001b[0m \u001b[1;33m\u001b[0m\u001b[0m\n\u001b[0;32m    280\u001b[0m         \u001b[0mres_json\u001b[0m \u001b[1;33m=\u001b[0m \u001b[0mres\u001b[0m\u001b[1;33m.\u001b[0m\u001b[0mjson\u001b[0m\u001b[1;33m(\u001b[0m\u001b[1;33m)\u001b[0m\u001b[1;33m\u001b[0m\u001b[1;33m\u001b[0m\u001b[0m\n",
      "\u001b[1;32m~\\AppData\\Local\\Programs\\Python\\Python39\\lib\\site-packages\\requests\\models.py\u001b[0m in \u001b[0;36mraise_for_status\u001b[1;34m(self)\u001b[0m\n\u001b[0;32m    941\u001b[0m \u001b[1;33m\u001b[0m\u001b[0m\n\u001b[0;32m    942\u001b[0m         \u001b[1;32mif\u001b[0m \u001b[0mhttp_error_msg\u001b[0m\u001b[1;33m:\u001b[0m\u001b[1;33m\u001b[0m\u001b[1;33m\u001b[0m\u001b[0m\n\u001b[1;32m--> 943\u001b[1;33m             \u001b[1;32mraise\u001b[0m \u001b[0mHTTPError\u001b[0m\u001b[1;33m(\u001b[0m\u001b[0mhttp_error_msg\u001b[0m\u001b[1;33m,\u001b[0m \u001b[0mresponse\u001b[0m\u001b[1;33m=\u001b[0m\u001b[0mself\u001b[0m\u001b[1;33m)\u001b[0m\u001b[1;33m\u001b[0m\u001b[1;33m\u001b[0m\u001b[0m\n\u001b[0m\u001b[0;32m    944\u001b[0m \u001b[1;33m\u001b[0m\u001b[0m\n\u001b[0;32m    945\u001b[0m     \u001b[1;32mdef\u001b[0m \u001b[0mclose\u001b[0m\u001b[1;33m(\u001b[0m\u001b[0mself\u001b[0m\u001b[1;33m)\u001b[0m\u001b[1;33m:\u001b[0m\u001b[1;33m\u001b[0m\u001b[1;33m\u001b[0m\u001b[0m\n",
      "\u001b[1;31mHTTPError\u001b[0m: 403 Client Error: Forbidden for url: https://api.biscoint.io/v1/offer"
     ]
    }
   ],
   "source": [
    "while True:\n",
    "    start_time = dt.now()\n",
    "    buy = bsc.get_offer(op='buy',amount=AMOUNT,isQuote=False)\n",
    "    sell = bsc.get_offer(op='sell',amount=AMOUNT,isQuote=False)\n",
    "\n",
    "    calculated_percent = percent(buy['efPrice'],sell['efPrice'])\n",
    "    print(f\"Percent is {calculated_percent}\")\n",
    "\n",
    "    if(calculated_percent >= MIN_PERCENT_REQUIRED):\n",
    "        print(f\"Arbitrage oportunity: buy:{buy['efPrice']}   sell:{sell['efPrice']}\")\n",
    "        playsound('beep.wav')\n",
    "        #Execute orders\n",
    "        executed_sell = bsc.confirm_offer(sell['offerId'])\n",
    "        executed_buy = bsc.confirm_offer(buy['offerId'])\n",
    "        last_balance = bsc.get_balance()\n",
    "\n",
    "\n",
    "    end_time = dt.now()\n",
    "    seconds_elapsed = (end_time - start_time).total_seconds()\n",
    "\n",
    "    print(f\"Took {seconds_elapsed} seconds\")\n",
    "    \n",
    "    time.sleep(sleep_time_offers)"
   ]
  },
  {
   "cell_type": "code",
   "execution_count": 285,
   "metadata": {},
   "outputs": [
    {
     "output_type": "execute_result",
     "data": {
      "text/plain": [
       "{'code': 4003,\n",
       " 'error': 'Forbidden',\n",
       " 'details': 'Invalid authorization headers'}"
      ]
     },
     "metadata": {},
     "execution_count": 285
    }
   ],
   "source": [
    "r = requests.post(f'{BASE_URL}/balance',headers=headers('balance'))#.json()\n",
    "r.json()"
   ]
  },
  {
   "cell_type": "code",
   "execution_count": 65,
   "metadata": {},
   "outputs": [],
   "source": [
    "from playsound import playsound\n",
    "playsound('beep.wav')"
   ]
  },
  {
   "cell_type": "code",
   "execution_count": null,
   "metadata": {},
   "outputs": [],
   "source": [
    "#thread_buy = threading.Thread(target=offerFunc,args=('buy',AMOUNT,False,buy))\n",
    "#thread_sell = threading.Thread(target=offerFunc,args=('sell',AMOUNT,False,sell))\n",
    "#thread_buy.start()\n",
    "#thread_sell.start()\n",
    "#thread_buy.join()\n",
    "#thread_sell.join()\n"
   ]
  }
 ]
}