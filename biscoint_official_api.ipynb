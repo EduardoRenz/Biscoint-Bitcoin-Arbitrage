{
 "metadata": {
  "language_info": {
   "codemirror_mode": {
    "name": "ipython",
    "version": 3
   },
   "file_extension": ".py",
   "mimetype": "text/x-python",
   "name": "python",
   "nbconvert_exporter": "python",
   "pygments_lexer": "ipython3",
   "version": "3.9.4"
  },
  "orig_nbformat": 2,
  "kernelspec": {
   "name": "python394jvsc74a57bd0d1923312bdd1ecdaed4c03ef9f030b61bfc0be630f081d4aef47785cf6a28ea0",
   "display_name": "Python 3.9.4 64-bit"
  },
  "metadata": {
   "interpreter": {
    "hash": "d1923312bdd1ecdaed4c03ef9f030b61bfc0be630f081d4aef47785cf6a28ea0"
   }
  }
 },
 "nbformat": 4,
 "nbformat_minor": 2,
 "cells": [
  {
   "cell_type": "code",
   "execution_count": 3,
   "metadata": {},
   "outputs": [],
   "source": [
    "import time\n",
    "from datetime import datetime as dt\n",
    "from biscoint_api_python import Biscoint\n",
    "from playsound import playsound\n",
    "import threading\n",
    "from utils import percent, btcToTrade\n",
    "from configs import logging\n",
    "from configs import API_KEY, API_SECRET,AMOUNT, MIN_PERCENT_REQUIRED,BASE_URL, BRL_AMOUNT_TRADE, UPDATE_TICK_RATE"
   ]
  },
  {
   "cell_type": "code",
   "execution_count": 4,
   "metadata": {},
   "outputs": [],
   "source": [
    "bsc = Biscoint(API_KEY, API_SECRET)\n",
    "endpoints_meta = bsc.get_meta()\n",
    "rate_limit_offer = endpoints_meta['endpoints']['offer']['post']['rateLimit']\n",
    "sleep_time_offers = ((rate_limit_offer[\"windowMs\"] / rate_limit_offer[\"maxRequests\"]) / 1000)*2\n",
    "initial_balance = bsc.get_balance()\n",
    "last_balance = initial_balance\n",
    "ticker = bsc.get_ticker()\n",
    "amount_btc_to_trade = btcToTrade(BRL_AMOUNT_TRADE,ticker['askQuoteAmountRef'],ticker['bidBaseAmountRef'])"
   ]
  },
  {
   "cell_type": "code",
   "execution_count": 5,
   "metadata": {},
   "outputs": [],
   "source": [
    "def async_offer(op:str,amount:str,isQuote:bool):\n",
    "    response = None\n",
    "    try:\n",
    "        response = bsc.get_offer(op,amount,isQuote) \n",
    "        request_orders[op] = response\n",
    "    except Exception as e:\n",
    "        print(response)\n",
    "        print(\"Erro ao rodar thread\",e)\n",
    "\n",
    "def updateTick(cycle_count):\n",
    "    if cycle_count % UPDATE_TICK_RATE == 0:\n",
    "        try:\n",
    "            ticker = bsc.get_ticker()\n",
    "            amount_btc_to_trade = btcToTrade(BRL_AMOUNT_TRADE,ticker['askQuoteAmountRef'],ticker['bidBaseAmountRef'])\n",
    "        except Exception as e:\n",
    "            logging.error(f\"Error on updating tick {e}\")\n",
    "\n",
    "# if spread is high, sleep, else speed up checks\n",
    "def waitForNextCycle(calculated_percent):\n",
    "    if calculated_percent < -0.3:\n",
    "        time.sleep(sleep_time_offers)\n",
    "    else:\n",
    "        time.sleep(2)"
   ]
  },
  {
   "cell_type": "code",
   "execution_count": 7,
   "metadata": {
    "tags": []
   },
   "outputs": [
    {
     "output_type": "stream",
     "name": "stderr",
     "text": [
      "Percent is -0.434 | Cycle 1\n",
      "Percent Record Reached!! : -0.434\n",
      "Percent is -0.434 | Cycle 2\n"
     ]
    },
    {
     "output_type": "error",
     "ename": "KeyboardInterrupt",
     "evalue": "",
     "traceback": [
      "\u001b[1;31m---------------------------------------------------------------------------\u001b[0m",
      "\u001b[1;31mKeyboardInterrupt\u001b[0m                         Traceback (most recent call last)",
      "\u001b[1;32m<ipython-input-7-8900640f625a>\u001b[0m in \u001b[0;36m<module>\u001b[1;34m\u001b[0m\n\u001b[0;32m     45\u001b[0m \u001b[1;33m\u001b[0m\u001b[0m\n\u001b[0;32m     46\u001b[0m         \u001b[0mupdateTick\u001b[0m\u001b[1;33m(\u001b[0m\u001b[0mcycle_count\u001b[0m\u001b[1;33m)\u001b[0m\u001b[1;33m\u001b[0m\u001b[1;33m\u001b[0m\u001b[0m\n\u001b[1;32m---> 47\u001b[1;33m         \u001b[0mwaitForNextCycle\u001b[0m\u001b[1;33m(\u001b[0m\u001b[0mcalculated_percent\u001b[0m\u001b[1;33m)\u001b[0m\u001b[1;33m\u001b[0m\u001b[1;33m\u001b[0m\u001b[0m\n\u001b[0m\u001b[0;32m     48\u001b[0m     \u001b[1;32mexcept\u001b[0m \u001b[0mException\u001b[0m \u001b[1;32mas\u001b[0m \u001b[0me\u001b[0m\u001b[1;33m:\u001b[0m\u001b[1;33m\u001b[0m\u001b[1;33m\u001b[0m\u001b[0m\n\u001b[0;32m     49\u001b[0m         \u001b[0mlogging\u001b[0m\u001b[1;33m.\u001b[0m\u001b[0merror\u001b[0m\u001b[1;33m(\u001b[0m\u001b[0me\u001b[0m\u001b[1;33m)\u001b[0m\u001b[1;33m\u001b[0m\u001b[1;33m\u001b[0m\u001b[0m\n",
      "\u001b[1;32m<ipython-input-5-2d256b39cd34>\u001b[0m in \u001b[0;36mwaitForNextCycle\u001b[1;34m(calculated_percent)\u001b[0m\n\u001b[0;32m     19\u001b[0m \u001b[1;32mdef\u001b[0m \u001b[0mwaitForNextCycle\u001b[0m\u001b[1;33m(\u001b[0m\u001b[0mcalculated_percent\u001b[0m\u001b[1;33m)\u001b[0m\u001b[1;33m:\u001b[0m\u001b[1;33m\u001b[0m\u001b[1;33m\u001b[0m\u001b[0m\n\u001b[0;32m     20\u001b[0m     \u001b[1;32mif\u001b[0m \u001b[0mcalculated_percent\u001b[0m \u001b[1;33m<\u001b[0m \u001b[1;33m-\u001b[0m\u001b[1;36m0.3\u001b[0m\u001b[1;33m:\u001b[0m\u001b[1;33m\u001b[0m\u001b[1;33m\u001b[0m\u001b[0m\n\u001b[1;32m---> 21\u001b[1;33m         \u001b[0mtime\u001b[0m\u001b[1;33m.\u001b[0m\u001b[0msleep\u001b[0m\u001b[1;33m(\u001b[0m\u001b[0msleep_time_offers\u001b[0m\u001b[1;33m)\u001b[0m\u001b[1;33m\u001b[0m\u001b[1;33m\u001b[0m\u001b[0m\n\u001b[0m\u001b[0;32m     22\u001b[0m     \u001b[1;32melse\u001b[0m\u001b[1;33m:\u001b[0m\u001b[1;33m\u001b[0m\u001b[1;33m\u001b[0m\u001b[0m\n\u001b[0;32m     23\u001b[0m         \u001b[0mtime\u001b[0m\u001b[1;33m.\u001b[0m\u001b[0msleep\u001b[0m\u001b[1;33m(\u001b[0m\u001b[1;36m2\u001b[0m\u001b[1;33m)\u001b[0m\u001b[1;33m\u001b[0m\u001b[1;33m\u001b[0m\u001b[0m\n",
      "\u001b[1;31mKeyboardInterrupt\u001b[0m: "
     ]
    }
   ],
   "source": [
    "# Arbitrage Cycle\n",
    "cycle_count = 1\n",
    "percent_record = -1\n",
    "request_orders = {'buy':None,'sell':None}\n",
    "while True:\n",
    "    try:\n",
    "        start_time = dt.now()\n",
    "        buy = bsc.get_offer(op='buy',amount=str(amount_btc_to_trade),isQuote=False)\n",
    "        sell = bsc.get_offer(op='sell',amount=str(amount_btc_to_trade),isQuote=False)\n",
    "\n",
    "        # thread_buy = threading.Thread(target=async_offer,args=('buy',str(amount_btc_to_trade),False))\n",
    "        # thread_sell = threading.Thread(target=async_offer,args=('sell',str(amount_btc_to_trade),False))\n",
    "        # thread_buy.start()\n",
    "        # time.sleep(0.1)\n",
    "        # thread_sell.start()\n",
    "        # thread_buy.join()\n",
    "        # thread_sell.join()\n",
    "\n",
    "\n",
    "    # Calculate if arbitrage is possible\n",
    "        calculated_percent = percent(buy['efPrice'],sell['efPrice'])\n",
    "        logging.info(f\"Percent is {calculated_percent} | Cycle {cycle_count}\")\n",
    "\n",
    "        if calculated_percent > percent_record:\n",
    "            logging.info(f\"Percent Record Reached!! : {calculated_percent}\")\n",
    "            percent_record = calculated_percent\n",
    "        # If Arbitrage is possible, confirm offers\n",
    "        if calculated_percent >= MIN_PERCENT_REQUIRED:\n",
    "            logging.info(f\"Arbitrage oportunity: buy:{buy['efPrice']}   sell:{sell['efPrice']}\")\n",
    "            playsound('beep.wav')\n",
    "            #Execute orders\n",
    "            executed_buy = bsc.confirm_offer(buy['offerId'])\n",
    "            executed_sell = bsc.confirm_offer(sell['offerId'])\n",
    "            logging.info(executed_buy)\n",
    "            logging.info(executed_sell)\n",
    "\n",
    "            last_balance = bsc.get_balance()\n",
    "            logging.info(f\"New Balance is: {last_balance}\")\n",
    "            \n",
    "\n",
    "        end_time = dt.now()\n",
    "        seconds_elapsed = (end_time - start_time).total_seconds()\n",
    "        logging.debug(f\"Cycle took {seconds_elapsed} seconds\")\n",
    "        cycle_count +=1\n",
    "\n",
    "        updateTick(cycle_count)\n",
    "        waitForNextCycle(calculated_percent)\n",
    "    except Exception as e:\n",
    "        logging.error(e)\n",
    "        print(e)"
   ]
  },
  {
   "cell_type": "code",
   "execution_count": null,
   "metadata": {},
   "outputs": [],
   "source": [
    "#thread_buy = threading.Thread(target=offerFunc,args=('buy',AMOUNT,False,buy))\n",
    "#thread_sell = threading.Thread(target=offerFunc,args=('sell',AMOUNT,False,sell))\n",
    "#thread_buy.start()\n",
    "#thread_sell.start()\n",
    "#thread_buy.join()\n",
    "#thread_sell.join()\n"
   ]
  }
 ]
}