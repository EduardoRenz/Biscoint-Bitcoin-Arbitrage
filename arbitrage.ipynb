{
 "metadata": {
  "language_info": {
   "codemirror_mode": {
    "name": "ipython",
    "version": 3
   },
   "file_extension": ".py",
   "mimetype": "text/x-python",
   "name": "python",
   "nbconvert_exporter": "python",
   "pygments_lexer": "ipython3",
   "version": "3.9.4"
  },
  "orig_nbformat": 2,
  "kernelspec": {
   "name": "python394jvsc74a57bd0d1923312bdd1ecdaed4c03ef9f030b61bfc0be630f081d4aef47785cf6a28ea0",
   "display_name": "Python 3.9.4 64-bit"
  },
  "metadata": {
   "interpreter": {
    "hash": "d1923312bdd1ecdaed4c03ef9f030b61bfc0be630f081d4aef47785cf6a28ea0"
   }
  }
 },
 "nbformat": 4,
 "nbformat_minor": 2,
 "cells": [
  {
   "cell_type": "code",
   "execution_count": 10,
   "metadata": {},
   "outputs": [
    {
     "output_type": "execute_result",
     "data": {
      "text/plain": [
       "True"
      ]
     },
     "metadata": {},
     "execution_count": 10
    }
   ],
   "source": [
    "import json\n",
    "import requests\n",
    "from datetime import datetime as dt\n",
    "import hmac\n",
    "import hashlib\n",
    "import base64\n",
    "from biscoint_api_python import Biscoint\n",
    "from dotenv import load_dotenv\n",
    "load_dotenv()"
   ]
  },
  {
   "cell_type": "code",
   "execution_count": 11,
   "metadata": {},
   "outputs": [],
   "source": [
    "# Constants\n",
    "BASE_URL=\"https://api.biscoint.io/v1\"\n",
    "API_KEY = os.getenv('API_KEY') \n",
    "API_SECRET= os.getenv('API_SECRET') \n",
    "AMOUNT = '0.00001'"
   ]
  },
  {
   "cell_type": "code",
   "execution_count": 237,
   "metadata": {},
   "outputs": [],
   "source": [
    "bsc = Biscoint(API_KEY, API_SECRET)\n",
    "endpoints_meta = bsc.get_meta()"
   ]
  },
  {
   "cell_type": "code",
   "execution_count": 289,
   "metadata": {},
   "outputs": [
    {
     "output_type": "execute_result",
     "data": {
      "text/plain": [
       "{'version': 'v1',\n",
       " 'endpoints': {'ticker': {'get': {'type': 'public',\n",
       "    'rateLimit': {'windowMs': 60000,\n",
       "     'maxRequests': 12,\n",
       "     'rate': '12 per 1 minute'}}},\n",
       "  'fees': {'get': {'type': 'public',\n",
       "    'rateLimit': {'windowMs': 60000,\n",
       "     'maxRequests': 2,\n",
       "     'rate': '2 per 1 minute'}}},\n",
       "  'meta': {'get': {'type': 'public',\n",
       "    'rateLimit': {'windowMs': 60000,\n",
       "     'maxRequests': 2,\n",
       "     'rate': '2 per 1 minute'}}},\n",
       "  'balance': {'post': {'type': 'private',\n",
       "    'rateLimit': {'windowMs': 60000,\n",
       "     'maxRequests': 20,\n",
       "     'rate': '20 per 1 minute'}}},\n",
       "  'offer': {'post': {'type': 'private',\n",
       "    'rateLimit': {'windowMs': 60000,\n",
       "     'maxRequests': 30,\n",
       "     'rate': '30 per 1 minute'}}},\n",
       "  'offer/confirm': {'post': {'type': 'private',\n",
       "    'rateLimit': {'windowMs': 60000,\n",
       "     'maxRequests': 30,\n",
       "     'rate': '30 per 1 minute'}}},\n",
       "  'trades': {'post': {'type': 'private',\n",
       "    'rateLimit': {'windowMs': 60000,\n",
       "     'maxRequests': 20,\n",
       "     'rate': '20 per 1 minute'}}}}}"
      ]
     },
     "metadata": {},
     "execution_count": 289
    }
   ],
   "source": [
    "endpoints_meta"
   ]
  },
  {
   "cell_type": "code",
   "execution_count": 272,
   "metadata": {},
   "outputs": [],
   "source": [
    "# Util functions\n",
    "def sign(endpoint,nonce,data=''):\n",
    "  param_string = f\"v1/{endpoint}{nonce}{data}\"\n",
    "  encoded_param_string = param_string.encode('utf-8')\n",
    "  base64_param_string = base64.b64encode(encoded_param_string)\n",
    "  signature = hmac.new(API_SECRET.encode(), base64_param_string, hashlib.sha384).hexdigest()\n",
    "  return signature\n",
    "\n",
    "# Generate a headers\n",
    "def headers(endpoint,data={}):\n",
    "    nonce_now = nonce()\n",
    "    return {\n",
    "        \"Content-Type\": \"application/json\",\n",
    "        \"BSCNT-NONCE\": nonce_now,\n",
    "        \"BSCNT-APIKEY\": API_KEY,\n",
    "        \"BSCNT-SIGN\": sign(endpoint,nonce_now,data),\n",
    "    }\n",
    "\n",
    "\n",
    "# Generate a nonce\n",
    "nonce = lambda  : str(int(dt.now().timestamp() * 1000))\n",
    "# Calulate the percent\n",
    "percent = lambda   value1, value2  :  round((float(value2) / float(value1) - 1) * 100,3)\n",
    "\n"
   ]
  },
  {
   "cell_type": "code",
   "execution_count": 247,
   "metadata": {},
   "outputs": [
    {
     "output_type": "execute_result",
     "data": {
      "text/plain": [
       "{'Content-Type': 'application/json',\n",
       " 'BSCNT-NONCE': '1618674569998',\n",
       " 'BSCNT-APIKEY': 'f37aea67e915bed1fcb837a3cd858ff2c38cf6a00e242b87d0703c9f1a04e010',\n",
       " 'BSCNT-SIGN': '67e34644cdc55b1550aef20b5a9f70f8a41aa24a898b9241783f099912f4bdf61c0b756e8da45f1d514faddb18a0cf4d'}"
      ]
     },
     "metadata": {},
     "execution_count": 247
    }
   ],
   "source": [
    "headers('balance')"
   ]
  },
  {
   "cell_type": "code",
   "execution_count": 240,
   "metadata": {},
   "outputs": [
    {
     "output_type": "execute_result",
     "data": {
      "text/plain": [
       "{'withdrawal': {'BTC': {'rate': '0.0',\n",
       "   'fixed': {'slow': '0.00046', 'normal': '0.00052', 'fast': '0.00056'}},\n",
       "  'BRL': {'rate': '0.0',\n",
       "   'fixed': {'ted': '14.90', 'sameBankTransfer': '14.90'}}}}"
      ]
     },
     "metadata": {},
     "execution_count": 240
    }
   ],
   "source": [
    "#requests.get(f\"{BASE_URL}/fees\").json()\n",
    "bsc.get_fees()"
   ]
  },
  {
   "cell_type": "code",
   "execution_count": 241,
   "metadata": {},
   "outputs": [
    {
     "output_type": "execute_result",
     "data": {
      "text/plain": [
       "{'BRL': '0.00', 'BTC': '0.00027316'}"
      ]
     },
     "metadata": {},
     "execution_count": 241
    }
   ],
   "source": [
    "bsc.get_balance()"
   ]
  },
  {
   "cell_type": "code",
   "execution_count": 242,
   "metadata": {},
   "outputs": [
    {
     "output_type": "execute_result",
     "data": {
      "text/plain": [
       "{'version': 'v1',\n",
       " 'endpoints': {'ticker': {'get': {'type': 'public',\n",
       "    'rateLimit': {'windowMs': 60000,\n",
       "     'maxRequests': 12,\n",
       "     'rate': '12 per 1 minute'}}},\n",
       "  'fees': {'get': {'type': 'public',\n",
       "    'rateLimit': {'windowMs': 60000,\n",
       "     'maxRequests': 2,\n",
       "     'rate': '2 per 1 minute'}}},\n",
       "  'meta': {'get': {'type': 'public',\n",
       "    'rateLimit': {'windowMs': 60000,\n",
       "     'maxRequests': 2,\n",
       "     'rate': '2 per 1 minute'}}},\n",
       "  'balance': {'post': {'type': 'private',\n",
       "    'rateLimit': {'windowMs': 60000,\n",
       "     'maxRequests': 20,\n",
       "     'rate': '20 per 1 minute'}}},\n",
       "  'offer': {'post': {'type': 'private',\n",
       "    'rateLimit': {'windowMs': 60000,\n",
       "     'maxRequests': 30,\n",
       "     'rate': '30 per 1 minute'}}},\n",
       "  'offer/confirm': {'post': {'type': 'private',\n",
       "    'rateLimit': {'windowMs': 60000,\n",
       "     'maxRequests': 30,\n",
       "     'rate': '30 per 1 minute'}}},\n",
       "  'trades': {'post': {'type': 'private',\n",
       "    'rateLimit': {'windowMs': 60000,\n",
       "     'maxRequests': 20,\n",
       "     'rate': '20 per 1 minute'}}}}}"
      ]
     },
     "metadata": {},
     "execution_count": 242
    }
   ],
   "source": [
    "endpoints_meta"
   ]
  },
  {
   "cell_type": "code",
   "execution_count": 288,
   "metadata": {},
   "outputs": [
    {
     "output_type": "stream",
     "name": "stdout",
     "text": [
      "Percent is -0.583\n"
     ]
    }
   ],
   "source": [
    "buy = bsc.get_offer(op='buy',amount=AMOUNT,isQuote=False)\n",
    "sell = bsc.get_offer(op='sell',amount=AMOUNT,isQuote=False)\n",
    "calculated_percent = percent(buy['efPrice'], sell['efPrice'])\n",
    "print(f\"Percent is {calculated_percent}\")\n",
    "\n",
    "if( calculated_percent > 0):\n",
    "    print(\"Arbitrage oportunity!\")"
   ]
  },
  {
   "cell_type": "code",
   "execution_count": 281,
   "metadata": {},
   "outputs": [
    {
     "output_type": "execute_result",
     "data": {
      "text/plain": [
       "{'offerId': '3xMmMjW8ehjxu7wHZ',\n",
       " 'base': 'BTC',\n",
       " 'quote': 'BRL',\n",
       " 'op': 'buy',\n",
       " 'isQuote': False,\n",
       " 'baseAmount': '0.00001000',\n",
       " 'quoteAmount': '3.43',\n",
       " 'efPrice': '343000.00',\n",
       " 'createdAt': '2021-04-17T16:01:44.676Z',\n",
       " 'expiresAt': '2021-04-17T16:01:59.676Z',\n",
       " 'apiKeyId': 'vo3Jt2cEmvPxQZ7NS'}"
      ]
     },
     "metadata": {},
     "execution_count": 281
    }
   ],
   "source": [
    "buy"
   ]
  },
  {
   "cell_type": "code",
   "execution_count": 284,
   "metadata": {},
   "outputs": [
    {
     "output_type": "execute_result",
     "data": {
      "text/plain": [
       "{'offerId': '5s8Te7YPG4bMnMixb',\n",
       " 'base': 'BTC',\n",
       " 'quote': 'BRL',\n",
       " 'op': 'sell',\n",
       " 'isQuote': False,\n",
       " 'baseAmount': '0.00001000',\n",
       " 'quoteAmount': '3.42',\n",
       " 'efPrice': '342000.00',\n",
       " 'createdAt': '2021-04-17T16:01:46.932Z',\n",
       " 'expiresAt': '2021-04-17T16:02:01.932Z',\n",
       " 'apiKeyId': 'vo3Jt2cEmvPxQZ7NS'}"
      ]
     },
     "metadata": {},
     "execution_count": 284
    }
   ],
   "source": [
    "sell"
   ]
  },
  {
   "cell_type": "code",
   "execution_count": 279,
   "metadata": {},
   "outputs": [
    {
     "output_type": "execute_result",
     "data": {
      "text/plain": [
       "-0.581"
      ]
     },
     "metadata": {},
     "execution_count": 279
    }
   ],
   "source": []
  },
  {
   "cell_type": "code",
   "execution_count": 285,
   "metadata": {},
   "outputs": [
    {
     "output_type": "execute_result",
     "data": {
      "text/plain": [
       "{'code': 4003,\n",
       " 'error': 'Forbidden',\n",
       " 'details': 'Invalid authorization headers'}"
      ]
     },
     "metadata": {},
     "execution_count": 285
    }
   ],
   "source": [
    "r = requests.post(f'{BASE_URL}/balance',headers=headers('balance'))#.json()\n",
    "r.json()"
   ]
  },
  {
   "cell_type": "code",
   "execution_count": 255,
   "metadata": {},
   "outputs": [
    {
     "output_type": "execute_result",
     "data": {
      "text/plain": [
       "{'User-Agent': 'python-requests/2.25.1', 'Accept-Encoding': 'gzip, deflate', 'Accept': '*/*', 'Connection': 'keep-alive', 'Content-Type': 'application/json', 'BSCNT-NONCE': '1618674613242', 'BSCNT-APIKEY': 'f37aea67e915bed1fcb837a3cd858ff2c38cf6a00e242b87d0703c9f1a04e010', 'BSCNT-SIGN': 'f1ed9aca5efeaf5b920eb5090d898217e652ff64081ae14cb43377c4980f26eba17cbcab8419b8a895452b72eea83a16', 'Content-Length': '0'}"
      ]
     },
     "metadata": {},
     "execution_count": 255
    }
   ],
   "source": [
    "r.request.headers"
   ]
  },
  {
   "cell_type": "code",
   "execution_count": null,
   "metadata": {},
   "outputs": [],
   "source": []
  }
 ]
}