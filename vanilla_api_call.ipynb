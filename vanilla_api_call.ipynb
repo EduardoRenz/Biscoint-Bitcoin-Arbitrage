{
 "metadata": {
  "language_info": {
   "codemirror_mode": {
    "name": "ipython",
    "version": 3
   },
   "file_extension": ".py",
   "mimetype": "text/x-python",
   "name": "python",
   "nbconvert_exporter": "python",
   "pygments_lexer": "ipython3",
   "version": "3.9.4"
  },
  "orig_nbformat": 2,
  "kernelspec": {
   "name": "python394jvsc74a57bd0d1923312bdd1ecdaed4c03ef9f030b61bfc0be630f081d4aef47785cf6a28ea0",
   "display_name": "Python 3.9.4 64-bit"
  },
  "metadata": {
   "interpreter": {
    "hash": "d1923312bdd1ecdaed4c03ef9f030b61bfc0be630f081d4aef47785cf6a28ea0"
   }
  }
 },
 "nbformat": 4,
 "nbformat_minor": 2,
 "cells": [
  {
   "cell_type": "code",
   "execution_count": 1,
   "metadata": {},
   "outputs": [],
   "source": [
    "import json\n",
    "import requests\n",
    "import utils\n",
    "import threading\n",
    "from playsound import playsound\n",
    "from configs import API_KEY,BASE_URL,AMOUNT,MIN_PERCENT_REQUIRED\n",
    "from biscoint import get_rate_limit,get_balance,get_offer,confirm_offer\n",
    "import time"
   ]
  },
  {
   "cell_type": "code",
   "execution_count": 2,
   "metadata": {},
   "outputs": [],
   "source": [
    "#Inicial configs\n",
    "rate_limit = get_rate_limit()\n",
    "sleep_time_offers = ((rate_limit[\"windowMs\"] / rate_limit[\"maxRequests\"]) / 1000)*2\n",
    "initial_balance = get_balance()\n",
    "last_balance = initial_balance"
   ]
  },
  {
   "cell_type": "code",
   "execution_count": 3,
   "metadata": {},
   "outputs": [
    {
     "output_type": "stream",
     "name": "stdout",
     "text": [
      "{'offerId': 'oTSkMrsL4ZFmsv3ed', 'base': 'BTC', 'quote': 'BRL', 'op': 'sell', 'isQuote': False, 'baseAmount': '0.00010000', 'quoteAmount': '31.89', 'efPrice': '318900.00', 'createdAt': '2021-04-19T00:06:54.654Z', 'expiresAt': '2021-04-19T00:07:09.654Z', 'apiKeyId': 'vo3Jt2cEmvPxQZ7NS'}\nWall time: 1.5 s\n"
     ]
    }
   ],
   "source": [
    "%%time\n",
    "buy = get_offer('buy','0.0001',False)\n",
    "sell = get_offer('sell','0.0001',False)\n",
    "print(sell)"
   ]
  },
  {
   "cell_type": "code",
   "execution_count": 5,
   "metadata": {},
   "outputs": [],
   "source": [
    "def async_offer(op:str,amount:str,isQuote:bool,increment_nonce:int=0):\n",
    "    print(op,'started')\n",
    "    response = get_offer(op,amount,isQuote,increment_nonce)\n",
    "    request_orders[op] = response"
   ]
  },
  {
   "cell_type": "code",
   "execution_count": 7,
   "metadata": {},
   "outputs": [
    {
     "output_type": "stream",
     "name": "stdout",
     "text": [
      "buy started\n",
      "sell started\n",
      "-0.313\n",
      "finished\n",
      "Wall time: 2.28 s\n"
     ]
    }
   ],
   "source": [
    "%%time\n",
    "\n",
    "request_orders = {'buy':None,'sell':None}\n",
    "\n",
    "\n",
    "\n",
    "thread_buy = threading.Thread(target=async_offer,args=('buy',AMOUNT,False))\n",
    "thread_sell = threading.Thread(target=async_offer,args=('sell',AMOUNT,False,1))\n",
    "thread_buy.start()\n",
    "thread_sell.start()\n",
    "thread_buy.join()\n",
    "thread_sell.join()\n",
    "\n",
    "buy_price = request_orders['buy']['efPrice']\n",
    "sell_price = request_orders['sell']['efPrice']\n",
    "percent = utils.percent(buy_price, sell_price)\n",
    "\n",
    "if percent >= MIN_PERCENT_REQUIRED:\n",
    "    print(f\"Arbitrage oportunity: buy:{buy_price}   sell:{sell_price} ->  {percent}%\")\n",
    "    playsound('beep.wav')\n",
    "\n",
    "\n",
    "print(percent)\n",
    "\n",
    "print('finished')\n",
    "\n"
   ]
  },
  {
   "cell_type": "code",
   "execution_count": 9,
   "metadata": {},
   "outputs": [
    {
     "output_type": "execute_result",
     "data": {
      "text/plain": [
       "{'buy': None,\n",
       " 'sell': {'offerId': 'GCaAqscFuLjREEhJ8',\n",
       "  'base': 'BTC',\n",
       "  'quote': 'BRL',\n",
       "  'op': 'sell',\n",
       "  'isQuote': False,\n",
       "  'baseAmount': '0.00001000',\n",
       "  'quoteAmount': '3.20',\n",
       "  'efPrice': '320000.00',\n",
       "  'createdAt': '2021-04-19T00:09:55.529Z',\n",
       "  'expiresAt': '2021-04-19T00:10:10.529Z',\n",
       "  'apiKeyId': 'vo3Jt2cEmvPxQZ7NS'}}"
      ]
     },
     "metadata": {},
     "execution_count": 9
    }
   ],
   "source": [
    "request_orders"
   ]
  },
  {
   "cell_type": "code",
   "execution_count": 9,
   "metadata": {},
   "outputs": [
    {
     "output_type": "execute_result",
     "data": {
      "text/plain": [
       "{'code': 5113,\n",
       " 'error': 'Offer amount is off limits',\n",
       " 'details': '฿\\xa00.00010000 <= offer <= ฿\\xa01.00000000'}"
      ]
     },
     "metadata": {},
     "execution_count": 9
    }
   ],
   "source": [
    "#confirm_offer('EAWBrEhsrAtbe8BXE')"
   ]
  }
 ]
}