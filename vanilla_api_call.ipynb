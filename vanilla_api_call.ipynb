{
 "metadata": {
  "language_info": {
   "codemirror_mode": {
    "name": "ipython",
    "version": 3
   },
   "file_extension": ".py",
   "mimetype": "text/x-python",
   "name": "python",
   "nbconvert_exporter": "python",
   "pygments_lexer": "ipython3",
   "version": "3.9.4"
  },
  "orig_nbformat": 2,
  "kernelspec": {
   "name": "python394jvsc74a57bd0d1923312bdd1ecdaed4c03ef9f030b61bfc0be630f081d4aef47785cf6a28ea0",
   "display_name": "Python 3.9.4 64-bit"
  },
  "metadata": {
   "interpreter": {
    "hash": "d1923312bdd1ecdaed4c03ef9f030b61bfc0be630f081d4aef47785cf6a28ea0"
   }
  }
 },
 "nbformat": 4,
 "nbformat_minor": 2,
 "cells": [
  {
   "cell_type": "code",
   "execution_count": 1,
   "metadata": {},
   "outputs": [],
   "source": [
    "import json\n",
    "import requests\n",
    "import utils\n",
    "import threading\n",
    "from datetime import datetime as dt\n",
    "from playsound import playsound\n",
    "from configs import API_KEY,BASE_URL,AMOUNT,MIN_PERCENT_REQUIRED\n",
    "from biscoint import get_rate_limit,get_balance,get_offer,confirm_offer\n",
    "import time"
   ]
  },
  {
   "cell_type": "code",
   "execution_count": 2,
   "metadata": {},
   "outputs": [],
   "source": [
    "#Inicial configs\n",
    "rate_limit = get_rate_limit()\n",
    "sleep_time_offers = ((rate_limit[\"windowMs\"] / rate_limit[\"maxRequests\"]) / 1000)*2\n",
    "initial_balance = get_balance()\n",
    "last_balance = initial_balance"
   ]
  },
  {
   "cell_type": "code",
   "execution_count": 7,
   "metadata": {},
   "outputs": [
    {
     "output_type": "stream",
     "name": "stdout",
     "text": [
      "{'offerId': 'cFWvDLznKYWg7FfYs', 'base': 'BTC', 'quote': 'BRL', 'op': 'sell', 'isQuote': False, 'baseAmount': '0.00010000', 'quoteAmount': '32.29', 'efPrice': '322900.00', 'createdAt': '2021-04-19T01:32:38.470Z', 'expiresAt': '2021-04-19T01:32:53.470Z', 'apiKeyId': 'vo3Jt2cEmvPxQZ7NS'}\nWall time: 2.03 s\n"
     ]
    }
   ],
   "source": [
    "%%time\n",
    "buy = get_offer('buy','0.0001',False)\n",
    "sell = get_offer('sell','0.0001',False)\n",
    "print(sell)"
   ]
  },
  {
   "cell_type": "code",
   "execution_count": 37,
   "metadata": {},
   "outputs": [],
   "source": [
    "def async_offer(op:str,amount:str,isQuote:bool):\n",
    "    try:\n",
    "        response = get_offer(op,amount,isQuote)\n",
    "        request_orders[op] = response\n",
    "    except Exception as e:\n",
    "        print(\"Erro ao rodar thread\",e)"
   ]
  },
  {
   "cell_type": "code",
   "execution_count": 43,
   "metadata": {},
   "outputs": [
    {
     "output_type": "stream",
     "name": "stdout",
     "text": [
      "-0.615\n",
      "Took 1.790898 seconds\n",
      "-0.615\n",
      "Took 1.361486 seconds\n",
      "-0.308\n",
      "Took 2.148119 seconds\n",
      "-0.613\n",
      "Took 0.990161 seconds\n",
      "-0.615\n",
      "Took 0.798309 seconds\n"
     ]
    },
    {
     "output_type": "error",
     "ename": "KeyboardInterrupt",
     "evalue": "",
     "traceback": [
      "\u001b[1;31m---------------------------------------------------------------------------\u001b[0m",
      "\u001b[1;31mKeyboardInterrupt\u001b[0m                         Traceback (most recent call last)",
      "\u001b[1;32m<ipython-input-43-1e62f3b49a7e>\u001b[0m in \u001b[0;36m<module>\u001b[1;34m\u001b[0m\n\u001b[0;32m     28\u001b[0m         \u001b[0mprint\u001b[0m\u001b[1;33m(\u001b[0m\u001b[1;34mf\"Took {seconds_elapsed} seconds\"\u001b[0m\u001b[1;33m)\u001b[0m\u001b[1;33m\u001b[0m\u001b[1;33m\u001b[0m\u001b[0m\n\u001b[0;32m     29\u001b[0m \u001b[1;33m\u001b[0m\u001b[0m\n\u001b[1;32m---> 30\u001b[1;33m         \u001b[0mtime\u001b[0m\u001b[1;33m.\u001b[0m\u001b[0msleep\u001b[0m\u001b[1;33m(\u001b[0m\u001b[0msleep_time_offers\u001b[0m\u001b[1;33m-\u001b[0m\u001b[0mseconds_elapsed\u001b[0m\u001b[1;33m)\u001b[0m\u001b[1;33m\u001b[0m\u001b[1;33m\u001b[0m\u001b[0m\n\u001b[0m\u001b[0;32m     31\u001b[0m     \u001b[1;32mexcept\u001b[0m \u001b[0mException\u001b[0m \u001b[1;32mas\u001b[0m \u001b[0me\u001b[0m\u001b[1;33m:\u001b[0m\u001b[1;33m\u001b[0m\u001b[1;33m\u001b[0m\u001b[0m\n\u001b[0;32m     32\u001b[0m         \u001b[0mprint\u001b[0m\u001b[1;33m(\u001b[0m\u001b[0me\u001b[0m\u001b[1;33m)\u001b[0m\u001b[1;33m\u001b[0m\u001b[1;33m\u001b[0m\u001b[0m\n",
      "\u001b[1;31mKeyboardInterrupt\u001b[0m: "
     ]
    }
   ],
   "source": [
    "while True:\n",
    "    start_time = dt.now()\n",
    "    try:\n",
    "        request_orders = {'buy':None,'sell':None}\n",
    "\n",
    "        # thread_buy = threading.Thread(target=async_offer,args=('buy',AMOUNT,False))\n",
    "        # thread_sell = threading.Thread(target=async_offer,args=('sell',AMOUNT,False))\n",
    "        # thread_buy.start()\n",
    "        # time.sleep(0.1)\n",
    "        # thread_sell.start()\n",
    "        # thread_buy.join()\n",
    "        # thread_sell.join()\n",
    "        request_orders['buy'] = get_offer('buy',AMOUNT,False)\n",
    "        request_orders['sell'] = get_offer('sell',AMOUNT,False)\n",
    "\n",
    "        buy_price = request_orders['buy']['efPrice']\n",
    "        sell_price = request_orders['sell']['efPrice']\n",
    "        percent = utils.percent(buy_price, sell_price)\n",
    "\n",
    "        if percent >= MIN_PERCENT_REQUIRED:\n",
    "            print(f\"Arbitrage oportunity: buy:{buy_price}   sell:{sell_price} ->  {percent}%\")\n",
    "            playsound('beep.wav')\n",
    "\n",
    "        print(percent)\n",
    "\n",
    "        end_time = dt.now()\n",
    "        seconds_elapsed = (end_time - start_time).total_seconds()\n",
    "        print(f\"Took {seconds_elapsed} seconds\")\n",
    "    \n",
    "        time.sleep(sleep_time_offers-seconds_elapsed)\n",
    "    except Exception as e:\n",
    "        print(e)\n",
    "\n"
   ]
  },
  {
   "cell_type": "code",
   "execution_count": 22,
   "metadata": {},
   "outputs": [
    {
     "output_type": "stream",
     "name": "stdout",
     "text": [
      "{'offerId': 't42LRiSJ8Ki7jjxhu', 'base': 'BTC', 'quote': 'BRL', 'op': 'buy', 'isQuote': False, 'baseAmount': '0.00018000', 'quoteAmount': '58.62', 'efPrice': '325666.67', 'createdAt': '2021-04-19T10:37:19.983Z', 'expiresAt': '2021-04-19T10:37:34.983Z', 'apiKeyId': 'vo3Jt2cEmvPxQZ7NS'}\n"
     ]
    }
   ],
   "source": [
    "#confirm_offer('EAWBrEhsrAtbe8BXE')\n",
    "buy = get_offer('buy','0.00018',False)\n",
    "print(buy)\n",
    "#confirm_offer(buy['offerId'])"
   ]
  },
  {
   "cell_type": "code",
   "execution_count": 23,
   "metadata": {},
   "outputs": [
    {
     "output_type": "stream",
     "name": "stdout",
     "text": [
      "{'offerId': 'vn3wEpkeHAR4Ti7xj', 'base': 'BTC', 'quote': 'BRL', 'op': 'sell', 'isQuote': False, 'baseAmount': '0.00018000', 'quoteAmount': '57.70', 'efPrice': '320555.56', 'createdAt': '2021-04-19T10:37:57.072Z', 'expiresAt': '2021-04-19T10:38:12.072Z', 'apiKeyId': 'vo3Jt2cEmvPxQZ7NS'}\n"
     ]
    }
   ],
   "source": [
    "sell = get_offer('sell','0.00018',False)\n",
    "print(sell)"
   ]
  },
  {
   "cell_type": "code",
   "execution_count": null,
   "metadata": {},
   "outputs": [],
   "source": []
  }
 ]
}