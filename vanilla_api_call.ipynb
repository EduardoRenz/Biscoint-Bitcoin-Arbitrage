{
 "metadata": {
  "language_info": {
   "codemirror_mode": {
    "name": "ipython",
    "version": 3
   },
   "file_extension": ".py",
   "mimetype": "text/x-python",
   "name": "python",
   "nbconvert_exporter": "python",
   "pygments_lexer": "ipython3",
   "version": "3.9.4"
  },
  "orig_nbformat": 2,
  "kernelspec": {
   "name": "python394jvsc74a57bd0d1923312bdd1ecdaed4c03ef9f030b61bfc0be630f081d4aef47785cf6a28ea0",
   "display_name": "Python 3.9.4 64-bit"
  },
  "metadata": {
   "interpreter": {
    "hash": "d1923312bdd1ecdaed4c03ef9f030b61bfc0be630f081d4aef47785cf6a28ea0"
   }
  }
 },
 "nbformat": 4,
 "nbformat_minor": 2,
 "cells": [
  {
   "cell_type": "code",
   "execution_count": 1,
   "metadata": {},
   "outputs": [],
   "source": [
    "import json\n",
    "import requests\n",
    "import utils\n",
    "from configs import API_KEY,BASE_URL\n",
    "from biscoint import get_rate_limit,get_balance"
   ]
  },
  {
   "cell_type": "code",
   "execution_count": 2,
   "metadata": {},
   "outputs": [],
   "source": [
    "#Inicial configs\n",
    "rate_limit = get_rate_limit()\n",
    "sleep_time_offers = ((rate_limit[\"windowMs\"] / rate_limit[\"maxRequests\"]) / 1000)*2"
   ]
  },
  {
   "cell_type": "code",
   "execution_count": 3,
   "metadata": {},
   "outputs": [],
   "source": [
    "initial_balance = get_balance()\n",
    "last_balance = initial_balance"
   ]
  },
  {
   "cell_type": "code",
   "execution_count": 4,
   "metadata": {},
   "outputs": [
    {
     "output_type": "stream",
     "name": "stdout",
     "text": [
      "1618781311045996\n1928e43091a4f34d05b57926451f86e3e0bf2c6960380ca4638f29e5840dd50c354beff7b35b30230c40410c6e5a0a6c\n"
     ]
    }
   ],
   "source": [
    "n = utils.nonce()\n",
    "s = utils.sign('balance',n)\n",
    "\n",
    "print(n)\n",
    "print(s)"
   ]
  },
  {
   "cell_type": "code",
   "execution_count": 35,
   "metadata": {},
   "outputs": [],
   "source": [
    "import json\n",
    "\n",
    "def get_offer(op:str,amount:str,isQuote:bool):\n",
    "    nonce = utils.nonce()\n",
    "    body = {\n",
    "       'op':op,\n",
    "       'amount':amount,\n",
    "       'isQuote':isQuote\n",
    "    }\n",
    "    signature = utils.sign('offer',nonce,json.dumps(body))\n",
    "    headers = {\n",
    "        'Content-Type': 'application/json', \n",
    "        'BSCNT-NONCE': str(nonce),\n",
    "        'BSCNT-APIKEY':API_KEY,\n",
    "        'BSCNT-SIGN': signature\n",
    "    }\n",
    "\n",
    "    response = requests.post(f'{BASE_URL}/offer',headers=headers,json=body).json()\n",
    "    return response"
   ]
  },
  {
   "cell_type": "code",
   "execution_count": 38,
   "metadata": {},
   "outputs": [
    {
     "output_type": "execute_result",
     "data": {
      "text/plain": [
       "{'message': '',\n",
       " 'data': {'offerId': '39eWrtKisChqk5pEh',\n",
       "  'base': 'BTC',\n",
       "  'quote': 'BRL',\n",
       "  'op': 'buy',\n",
       "  'isQuote': False,\n",
       "  'baseAmount': '0.00001000',\n",
       "  'quoteAmount': '3.23',\n",
       "  'efPrice': '323000.00',\n",
       "  'createdAt': '2021-04-18T21:57:52.452Z',\n",
       "  'expiresAt': '2021-04-18T21:58:07.452Z',\n",
       "  'apiKeyId': 'vo3Jt2cEmvPxQZ7NS'}}"
      ]
     },
     "metadata": {},
     "execution_count": 38
    }
   ],
   "source": [
    "get_offer('buy','0.00001',False)"
   ]
  },
  {
   "cell_type": "code",
   "execution_count": null,
   "metadata": {},
   "outputs": [],
   "source": []
  }
 ]
}