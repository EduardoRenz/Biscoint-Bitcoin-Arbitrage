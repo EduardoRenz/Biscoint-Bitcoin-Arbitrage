{
 "metadata": {
  "language_info": {
   "codemirror_mode": {
    "name": "ipython",
    "version": 3
   },
   "file_extension": ".py",
   "mimetype": "text/x-python",
   "name": "python",
   "nbconvert_exporter": "python",
   "pygments_lexer": "ipython3",
   "version": "3.9.4"
  },
  "orig_nbformat": 2,
  "kernelspec": {
   "name": "python394jvsc74a57bd0d1923312bdd1ecdaed4c03ef9f030b61bfc0be630f081d4aef47785cf6a28ea0",
   "display_name": "Python 3.9.4 64-bit"
  },
  "metadata": {
   "interpreter": {
    "hash": "d1923312bdd1ecdaed4c03ef9f030b61bfc0be630f081d4aef47785cf6a28ea0"
   }
  }
 },
 "nbformat": 4,
 "nbformat_minor": 2,
 "cells": [
  {
   "cell_type": "code",
   "execution_count": 3,
   "metadata": {},
   "outputs": [],
   "source": [
    "import utils\n",
    "import threading\n",
    "from datetime import datetime as dt\n",
    "from playsound import playsound\n",
    "from configs import API_KEY,BASE_URL,AMOUNT,MIN_PERCENT_REQUIRED,BRL_AMOUNT_TRADE\n",
    "from biscoint import get_rate_limit, get_balance, get_offer, confirm_offer, get_ticker\n",
    "from coinsamba import get_offers_coinsamba\n",
    "import time"
   ]
  },
  {
   "cell_type": "code",
   "execution_count": 4,
   "metadata": {},
   "outputs": [],
   "source": [
    "#Inicial configs\n",
    "rate_limit = get_rate_limit()\n",
    "sleep_time_offers = ((rate_limit[\"windowMs\"] / rate_limit[\"maxRequests\"]) / 1000) * 1.5\n",
    "no_rush_percent = -0.2 # If the spread is lower than this, wait normal time\n",
    "initial_balance = get_balance()\n",
    "last_balance = initial_balance\n",
    "ticker = get_ticker()\n",
    "amount_btc_to_trade = utils.btcToTrade(BRL_AMOUNT_TRADE,ticker['askQuoteAmountRef'],ticker['bidBaseAmountRef'])"
   ]
  },
  {
   "cell_type": "code",
   "execution_count": 5,
   "metadata": {},
   "outputs": [],
   "source": [
    "def async_offer(op:str,amount:str,isQuote:bool):\n",
    "    try:\n",
    "        response = get_offer(op,amount,isQuote)\n",
    "        request_orders[op] = response\n",
    "    except Exception as e:\n",
    "        print(\"Erro ao rodar thread\",e)\n",
    "# thread_buy = threading.Thread(target=async_offer,args=('buy',AMOUNT,False))\n",
    "# thread_sell = threading.Thread(target=async_offer,args=('sell',AMOUNT,False))\n",
    "# thread_buy.start()\n",
    "# time.sleep(0.1)\n",
    "# thread_sell.start()\n",
    "# thread_buy.join()\n",
    "# thread_sell.join()"
   ]
  },
  {
   "cell_type": "code",
   "execution_count": 6,
   "metadata": {},
   "outputs": [
    {
     "output_type": "stream",
     "name": "stdout",
     "text": [
      "-0.882\n",
      "Took 1.019607 seconds\n",
      "Wait 3.882\n",
      "-0.882\n",
      "Took 0.935965 seconds\n",
      "Wait 3.882\n"
     ]
    },
    {
     "output_type": "error",
     "ename": "KeyboardInterrupt",
     "evalue": "",
     "traceback": [
      "\u001b[1;31m---------------------------------------------------------------------------\u001b[0m",
      "\u001b[1;31mKeyboardInterrupt\u001b[0m                         Traceback (most recent call last)",
      "\u001b[1;32m<ipython-input-6-a1907eab9a87>\u001b[0m in \u001b[0;36m<module>\u001b[1;34m\u001b[0m\n\u001b[0;32m     31\u001b[0m         \u001b[0mprint\u001b[0m\u001b[1;33m(\u001b[0m\u001b[1;34m\"Wait\"\u001b[0m\u001b[1;33m,\u001b[0m\u001b[0msleep_time_offers\u001b[0m\u001b[1;33m-\u001b[0m\u001b[0mpercent\u001b[0m\u001b[1;33m)\u001b[0m\u001b[1;33m\u001b[0m\u001b[1;33m\u001b[0m\u001b[0m\n\u001b[0;32m     32\u001b[0m         \u001b[1;32mif\u001b[0m \u001b[0mpercent\u001b[0m \u001b[1;33m<=\u001b[0m \u001b[0mno_rush_percent\u001b[0m\u001b[1;33m:\u001b[0m\u001b[1;33m\u001b[0m\u001b[1;33m\u001b[0m\u001b[0m\n\u001b[1;32m---> 33\u001b[1;33m             \u001b[0mtime\u001b[0m\u001b[1;33m.\u001b[0m\u001b[0msleep\u001b[0m\u001b[1;33m(\u001b[0m\u001b[0msleep_time_offers\u001b[0m\u001b[1;33m)\u001b[0m\u001b[1;33m\u001b[0m\u001b[1;33m\u001b[0m\u001b[0m\n\u001b[0m\u001b[0;32m     34\u001b[0m         \u001b[1;32melse\u001b[0m\u001b[1;33m:\u001b[0m\u001b[1;33m\u001b[0m\u001b[1;33m\u001b[0m\u001b[0m\n\u001b[0;32m     35\u001b[0m             \u001b[0mtime\u001b[0m\u001b[1;33m.\u001b[0m\u001b[0msleep\u001b[0m\u001b[1;33m(\u001b[0m\u001b[1;36m0.5\u001b[0m\u001b[1;33m)\u001b[0m\u001b[1;33m\u001b[0m\u001b[1;33m\u001b[0m\u001b[0m\n",
      "\u001b[1;31mKeyboardInterrupt\u001b[0m: "
     ]
    }
   ],
   "source": [
    "while True:\n",
    "    start_time = dt.now()\n",
    "    try:\n",
    "        request_orders = {'buy':None,'sell':None}\n",
    "\n",
    "\n",
    "       \n",
    "        request_orders['buy'] = get_offer('buy',str(amount_btc_to_trade),False)\n",
    "        request_orders['sell'] = get_offer('sell',str(amount_btc_to_trade),False)\n",
    "\n",
    "        buy_price = request_orders['buy']['efPrice']\n",
    "        sell_price = request_orders['sell']['efPrice']\n",
    "        percent = utils.percent(buy_price, sell_price)\n",
    "\n",
    "        if percent >= MIN_PERCENT_REQUIRED:\n",
    "            print(f\"Arbitrage oportunity: buy:{buy_price}   sell:{sell_price} ->  {percent}%\")\n",
    "            playsound('beep.wav')\n",
    "            executed_buy = confirm_offer(buy['offerId'])\n",
    "            executed_sell = confirm_offer(sell['offerId'])\n",
    "\n",
    "        print(percent)\n",
    "\n",
    "        end_time = dt.now()\n",
    "        seconds_elapsed = (end_time - start_time).total_seconds()\n",
    "        print(f\"Took {seconds_elapsed} seconds\")\n",
    "        print(\"Wait\",sleep_time_offers-percent)\n",
    "        if percent <= no_rush_percent:\n",
    "            time.sleep(sleep_time_offers)\n",
    "        else:\n",
    "            time.sleep(0.5)\n",
    "        \n",
    "    except Exception as e:\n",
    "        print(e)\n",
    "\n"
   ]
  },
  {
   "cell_type": "code",
   "execution_count": 64,
   "metadata": {},
   "outputs": [
    {
     "output_type": "stream",
     "name": "stdout",
     "text": [
      "8.107\n"
     ]
    }
   ],
   "source": [
    "sell = get_offers_coinsamba('sell',amount_btc_to_trade)\n",
    "buy = get_offers_coinsamba('buy',amount_btc_to_trade)\n",
    "\n",
    "calc_percent = utils.percent(buy[0]['averagePrice'],sell[0]['averagePrice'])\n",
    "print(calc_percent)"
   ]
  },
  {
   "cell_type": "code",
   "execution_count": null,
   "metadata": {},
   "outputs": [],
   "source": []
  }
 ]
}