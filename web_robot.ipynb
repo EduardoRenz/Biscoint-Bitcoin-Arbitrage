{
 "cells": [
  {
   "cell_type": "code",
   "execution_count": 2,
   "metadata": {},
   "outputs": [],
   "source": [
    "from selenium import webdriver\n",
    "import time\n",
    "import threading\n",
    "from utils import btcToTrade, showCycle, percent\n",
    "from configs import logging, API_KEY, API_SECRET, MIN_PERCENT_REQUIRED, BRL_AMOUNT_TRADE, UPDATE_TICK_RATE, LOGIN_TOKEN\n",
    "from datetime import datetime as dt\n",
    "from biscoint_api_python import Biscoint\n",
    "import playsound\n",
    "from classes.Robots import WebRobot, BiscointRobot"
   ]
  },
  {
   "cell_type": "code",
   "execution_count": 4,
   "metadata": {},
   "outputs": [],
   "source": [
    "# Initial configs\n",
    "\n",
    "# Selenium\n",
    "options = webdriver.FirefoxOptions()\n",
    "options.add_argument('--headless')\n",
    "driver = webdriver.Firefox(options=options)\n",
    "\n",
    "driver.get(\"https://biscoint.io\")\n",
    "driver.execute_script(f\"window.localStorage.setItem('Meteor.loginToken','{LOGIN_TOKEN}');\")\n",
    "driver.get(\"https://biscoint.io/dashboard/portfolio\")\n",
    "\n",
    "#Biscoint api \n",
    "bsc = Biscoint(API_KEY, API_SECRET)\n",
    "\n",
    "# Web Robot\n",
    "web_robot = WebRobot(bsc, driver)\n",
    "biscoint_robot = BiscointRobot(bsc)"
   ]
  },
  {
   "cell_type": "code",
   "execution_count": 12,
   "metadata": {},
   "outputs": [],
   "source": [
    "def updateTick(cycle_count):\n",
    "    global ticker\n",
    "    global amount_btc_to_trade\n",
    "    if cycle_count % UPDATE_TICK_RATE == 0:\n",
    "        try:\n",
    "            ticker = bsc.get_ticker()\n",
    "            amount_btc_to_trade =  btcToTrade(BRL_AMOUNT_TRADE,ticker['askQuoteAmountRef'],ticker['bidBaseAmountRef'])\n",
    "        except Exception as e:\n",
    "            logging.error(f\"Error on updating tick {e}\")\n",
    "\n",
    "# if spread is high, sleep, else speed up checks\n",
    "def waitForNextCycle(calculated_percent):\n",
    "    if calculated_percent < -0.1:\n",
    "        time.sleep(sleep_time_offers)\n",
    "    else:\n",
    "        time.sleep(2)\n"
   ]
  },
  {
   "cell_type": "code",
   "execution_count": 22,
   "metadata": {},
   "outputs": [
    {
     "name": "stderr",
     "output_type": "stream",
     "text": [
      "Initial balance: {'BRL': '11.63', 'BTC': '0.00099334', 'ETH': '0.000000000000'}\n"
     ]
    }
   ],
   "source": [
    "#Return initial balance from Biscoint\n",
    "initial_balance = last_balance = bsc.get_balance()\n",
    "# Calculate the rate limit of request to Biscoint API\n",
    "endpoints_meta = bsc.get_meta()\n",
    "rate_limit_offer = endpoints_meta['endpoints']['offer']['post']['rateLimit']\n",
    "sleep_time_offers = ((rate_limit_offer[\"windowMs\"] / rate_limit_offer[\"maxRequests\"]) / 1000) * 1.5\n",
    "# Convert the BRL amount of trading to BTC\n",
    "ticker = bsc.get_ticker()\n",
    "\n",
    "amount_btc_to_trade = btcToTrade(BRL_AMOUNT_TRADE,ticker['askQuoteAmountRef'],ticker['bidBaseAmountRef'])\n",
    "\n",
    "percent_record = -1 # Will refresh every time when a new positive spread is achived\n",
    "\n",
    "logging.info(f\"Initial balance: {initial_balance}\")\n",
    "# Arbitrage Cycle\n",
    "cycle_count = 1\n"
   ]
  },
  {
   "cell_type": "code",
   "execution_count": 14,
   "metadata": {},
   "outputs": [
    {
     "name": "stderr",
     "output_type": "stream",
     "text": [
      "Percent Record Reached!! : -0.69 at 2021-10-10 21:21:23.115451\n",
      "Percent Record Reached!! : -0.657 at 2021-10-10 21:21:37.788381\n",
      "Cycle 20 | Last percent : -0.755 |\n"
     ]
    },
    {
     "name": "stdout",
     "output_type": "stream",
     "text": [
      "Erro ao rodar get_offer Message: [object Object]\n",
      "\n"
     ]
    },
    {
     "name": "stderr",
     "output_type": "stream",
     "text": [
      "'NoneType' object is not subscriptable\n",
      "Cycle 40 | Last percent : -0.723 |\n"
     ]
    },
    {
     "name": "stdout",
     "output_type": "stream",
     "text": [
      "Erro ao rodar get_offer Message: [object Object]\n",
      "\n"
     ]
    },
    {
     "name": "stderr",
     "output_type": "stream",
     "text": [
      "'NoneType' object is not subscriptable\n",
      "Percent Record Reached!! : -0.592 at 2021-10-10 21:25:14.151476\n",
      "Cycle 60 | Last percent : -0.691 |\n"
     ]
    },
    {
     "name": "stdout",
     "output_type": "stream",
     "text": [
      "Erro ao rodar get_offer Message: [object Object]\n",
      "\n"
     ]
    },
    {
     "name": "stderr",
     "output_type": "stream",
     "text": [
      "'NoneType' object is not subscriptable\n",
      "Cycle 80 | Last percent : -0.625 |\n"
     ]
    },
    {
     "name": "stdout",
     "output_type": "stream",
     "text": [
      "Erro ao rodar get_offer Message: [object Object]\n",
      "\n"
     ]
    },
    {
     "name": "stderr",
     "output_type": "stream",
     "text": [
      "'NoneType' object is not subscriptable\n"
     ]
    },
    {
     "name": "stdout",
     "output_type": "stream",
     "text": [
      "Erro ao rodar get_offer Message: [object Object]\n",
      "\n"
     ]
    },
    {
     "name": "stderr",
     "output_type": "stream",
     "text": [
      "'NoneType' object is not subscriptable\n",
      "Cycle 100 | Last percent : -0.755 |\n"
     ]
    },
    {
     "name": "stdout",
     "output_type": "stream",
     "text": [
      "Erro ao rodar get_offer Message: [object Object]\n",
      "\n"
     ]
    },
    {
     "name": "stderr",
     "output_type": "stream",
     "text": [
      "'NoneType' object is not subscriptable\n"
     ]
    },
    {
     "name": "stdout",
     "output_type": "stream",
     "text": [
      "Erro ao rodar get_offer Message: [object Object]\n",
      "\n"
     ]
    },
    {
     "name": "stderr",
     "output_type": "stream",
     "text": [
      "'NoneType' object is not subscriptable\n",
      "Cycle 120 | Last percent : -0.657 |\n"
     ]
    },
    {
     "name": "stdout",
     "output_type": "stream",
     "text": [
      "Erro ao rodar get_offer Message: [object Object]\n",
      "\n"
     ]
    },
    {
     "name": "stderr",
     "output_type": "stream",
     "text": [
      "'NoneType' object is not subscriptable\n",
      "Cycle 140 | Last percent : -0.754 |\n"
     ]
    },
    {
     "name": "stdout",
     "output_type": "stream",
     "text": [
      "Erro ao rodar get_offer Message: [object Object]\n",
      "\n"
     ]
    },
    {
     "name": "stderr",
     "output_type": "stream",
     "text": [
      "'NoneType' object is not subscriptable\n",
      "Cycle 160 | Last percent : -0.721 |\n"
     ]
    },
    {
     "name": "stdout",
     "output_type": "stream",
     "text": [
      "Erro ao rodar get_offer Message: [object Object]\n",
      "\n"
     ]
    },
    {
     "name": "stderr",
     "output_type": "stream",
     "text": [
      "'NoneType' object is not subscriptable\n"
     ]
    },
    {
     "name": "stdout",
     "output_type": "stream",
     "text": [
      "Erro ao rodar get_offer Message: [object Object]\n",
      "\n"
     ]
    },
    {
     "name": "stderr",
     "output_type": "stream",
     "text": [
      "'NoneType' object is not subscriptable\n",
      "Cycle 180 | Last percent : -0.884 |\n"
     ]
    },
    {
     "name": "stdout",
     "output_type": "stream",
     "text": [
      "Erro ao rodar get_offer Message: [object Object]\n",
      "\n"
     ]
    },
    {
     "name": "stderr",
     "output_type": "stream",
     "text": [
      "'NoneType' object is not subscriptable\n",
      "Cycle 200 | Last percent : -0.785 |\n"
     ]
    },
    {
     "name": "stdout",
     "output_type": "stream",
     "text": [
      "Erro ao rodar get_offer Message: [object Object]\n",
      "\n"
     ]
    },
    {
     "name": "stderr",
     "output_type": "stream",
     "text": [
      "'NoneType' object is not subscriptable\n"
     ]
    },
    {
     "name": "stdout",
     "output_type": "stream",
     "text": [
      "Erro ao rodar get_offer Message: [object Object]\n",
      "\n"
     ]
    },
    {
     "name": "stderr",
     "output_type": "stream",
     "text": [
      "'NoneType' object is not subscriptable\n",
      "Cycle 220 | Last percent : -0.85 |\n"
     ]
    },
    {
     "name": "stdout",
     "output_type": "stream",
     "text": [
      "Erro ao rodar get_offer Message: [object Object]\n",
      "\n"
     ]
    },
    {
     "name": "stderr",
     "output_type": "stream",
     "text": [
      "'NoneType' object is not subscriptable\n",
      "Cycle 240 | Last percent : -0.753 |\n"
     ]
    },
    {
     "name": "stdout",
     "output_type": "stream",
     "text": [
      "Erro ao rodar get_offer Message: [object Object]\n",
      "\n"
     ]
    },
    {
     "name": "stderr",
     "output_type": "stream",
     "text": [
      "'NoneType' object is not subscriptable\n"
     ]
    },
    {
     "name": "stdout",
     "output_type": "stream",
     "text": [
      "Erro ao rodar get_offer Message: [object Object]\n",
      "\n"
     ]
    },
    {
     "name": "stderr",
     "output_type": "stream",
     "text": [
      "'NoneType' object is not subscriptable\n",
      "Cycle 260 | Last percent : -0.817 |\n"
     ]
    },
    {
     "name": "stdout",
     "output_type": "stream",
     "text": [
      "Erro ao rodar get_offer Message: [object Object]\n",
      "\n"
     ]
    },
    {
     "name": "stderr",
     "output_type": "stream",
     "text": [
      "'NoneType' object is not subscriptable\n"
     ]
    },
    {
     "name": "stdout",
     "output_type": "stream",
     "text": [
      "Erro ao rodar get_offer Message: [object Object]\n",
      "\n"
     ]
    },
    {
     "name": "stderr",
     "output_type": "stream",
     "text": [
      "'NoneType' object is not subscriptable\n",
      "Cycle 280 | Last percent : -0.85 |\n"
     ]
    },
    {
     "name": "stdout",
     "output_type": "stream",
     "text": [
      "Erro ao rodar get_offer Message: [object Object]\n",
      "\n"
     ]
    },
    {
     "name": "stderr",
     "output_type": "stream",
     "text": [
      "'NoneType' object is not subscriptable\n"
     ]
    },
    {
     "name": "stdout",
     "output_type": "stream",
     "text": [
      "Erro ao rodar get_offer Message: [object Object]\n",
      "\n"
     ]
    },
    {
     "name": "stderr",
     "output_type": "stream",
     "text": [
      "'NoneType' object is not subscriptable\n",
      "Cycle 300 | Last percent : -0.85 |\n"
     ]
    },
    {
     "name": "stdout",
     "output_type": "stream",
     "text": [
      "Erro ao rodar get_offer Message: [object Object]\n",
      "\n"
     ]
    },
    {
     "name": "stderr",
     "output_type": "stream",
     "text": [
      "'NoneType' object is not subscriptable\n"
     ]
    },
    {
     "name": "stdout",
     "output_type": "stream",
     "text": [
      "Erro ao rodar get_offer Message: [object Object]\n",
      "\n"
     ]
    },
    {
     "name": "stderr",
     "output_type": "stream",
     "text": [
      "'NoneType' object is not subscriptable\n"
     ]
    },
    {
     "name": "stdout",
     "output_type": "stream",
     "text": [
      "Erro ao rodar get_offer Message: [object Object]\n",
      "\n"
     ]
    },
    {
     "name": "stderr",
     "output_type": "stream",
     "text": [
      "'NoneType' object is not subscriptable\n",
      "Cycle 320 | Last percent : -0.785 |\n"
     ]
    },
    {
     "name": "stdout",
     "output_type": "stream",
     "text": [
      "Erro ao rodar get_offer Message: [object Object]\n",
      "\n"
     ]
    },
    {
     "name": "stderr",
     "output_type": "stream",
     "text": [
      "'NoneType' object is not subscriptable\n",
      "Cycle 340 | Last percent : -0.719 |\n"
     ]
    },
    {
     "name": "stdout",
     "output_type": "stream",
     "text": [
      "Erro ao rodar get_offer Message: [object Object]\n",
      "\n"
     ]
    },
    {
     "name": "stderr",
     "output_type": "stream",
     "text": [
      "'NoneType' object is not subscriptable\n"
     ]
    },
    {
     "name": "stdout",
     "output_type": "stream",
     "text": [
      "Erro ao rodar get_offer Message: [object Object]\n",
      "\n"
     ]
    },
    {
     "name": "stderr",
     "output_type": "stream",
     "text": [
      "'NoneType' object is not subscriptable\n",
      "Cycle 360 | Last percent : -0.784 |\n"
     ]
    },
    {
     "name": "stdout",
     "output_type": "stream",
     "text": [
      "Erro ao rodar get_offer Message: [object Object]\n",
      "\n"
     ]
    },
    {
     "name": "stderr",
     "output_type": "stream",
     "text": [
      "'NoneType' object is not subscriptable\n"
     ]
    },
    {
     "name": "stdout",
     "output_type": "stream",
     "text": [
      "Erro ao rodar get_offer Message: [object Object]\n",
      "\n"
     ]
    },
    {
     "name": "stderr",
     "output_type": "stream",
     "text": [
      "'NoneType' object is not subscriptable\n"
     ]
    },
    {
     "ename": "KeyboardInterrupt",
     "evalue": "",
     "output_type": "error",
     "traceback": [
      "\u001b[1;31m---------------------------------------------------------------------------\u001b[0m",
      "\u001b[1;31mKeyboardInterrupt\u001b[0m                         Traceback (most recent call last)",
      "\u001b[1;32m<ipython-input-14-98a8f854376d>\u001b[0m in \u001b[0;36m<module>\u001b[1;34m\u001b[0m\n\u001b[0;32m     43\u001b[0m \u001b[1;33m\u001b[0m\u001b[0m\n\u001b[0;32m     44\u001b[0m         \u001b[0mupdateTick\u001b[0m\u001b[1;33m(\u001b[0m\u001b[0mcycle_count\u001b[0m\u001b[1;33m)\u001b[0m\u001b[1;33m\u001b[0m\u001b[1;33m\u001b[0m\u001b[0m\n\u001b[1;32m---> 45\u001b[1;33m         \u001b[0mwaitForNextCycle\u001b[0m\u001b[1;33m(\u001b[0m\u001b[0mcalculated_percent\u001b[0m\u001b[1;33m)\u001b[0m\u001b[1;33m\u001b[0m\u001b[1;33m\u001b[0m\u001b[0m\n\u001b[0m\u001b[0;32m     46\u001b[0m     \u001b[1;32mexcept\u001b[0m \u001b[0mException\u001b[0m \u001b[1;32mas\u001b[0m \u001b[0me\u001b[0m\u001b[1;33m:\u001b[0m\u001b[1;33m\u001b[0m\u001b[1;33m\u001b[0m\u001b[0m\n\u001b[0;32m     47\u001b[0m         \u001b[0mlogging\u001b[0m\u001b[1;33m.\u001b[0m\u001b[0merror\u001b[0m\u001b[1;33m(\u001b[0m\u001b[0me\u001b[0m\u001b[1;33m)\u001b[0m\u001b[1;33m\u001b[0m\u001b[1;33m\u001b[0m\u001b[0m\n",
      "\u001b[1;32m<ipython-input-12-ad7b0b2e5b15>\u001b[0m in \u001b[0;36mwaitForNextCycle\u001b[1;34m(calculated_percent)\u001b[0m\n\u001b[0;32m     25\u001b[0m \u001b[1;32mdef\u001b[0m \u001b[0mwaitForNextCycle\u001b[0m\u001b[1;33m(\u001b[0m\u001b[0mcalculated_percent\u001b[0m\u001b[1;33m)\u001b[0m\u001b[1;33m:\u001b[0m\u001b[1;33m\u001b[0m\u001b[1;33m\u001b[0m\u001b[0m\n\u001b[0;32m     26\u001b[0m     \u001b[1;32mif\u001b[0m \u001b[0mcalculated_percent\u001b[0m \u001b[1;33m<\u001b[0m \u001b[1;33m-\u001b[0m\u001b[1;36m0.1\u001b[0m\u001b[1;33m:\u001b[0m\u001b[1;33m\u001b[0m\u001b[1;33m\u001b[0m\u001b[0m\n\u001b[1;32m---> 27\u001b[1;33m         \u001b[0mtime\u001b[0m\u001b[1;33m.\u001b[0m\u001b[0msleep\u001b[0m\u001b[1;33m(\u001b[0m\u001b[0msleep_time_offers\u001b[0m\u001b[1;33m)\u001b[0m\u001b[1;33m\u001b[0m\u001b[1;33m\u001b[0m\u001b[0m\n\u001b[0m\u001b[0;32m     28\u001b[0m     \u001b[1;32melse\u001b[0m\u001b[1;33m:\u001b[0m\u001b[1;33m\u001b[0m\u001b[1;33m\u001b[0m\u001b[0m\n\u001b[0;32m     29\u001b[0m         \u001b[0mtime\u001b[0m\u001b[1;33m.\u001b[0m\u001b[0msleep\u001b[0m\u001b[1;33m(\u001b[0m\u001b[1;36m2\u001b[0m\u001b[1;33m)\u001b[0m\u001b[1;33m\u001b[0m\u001b[1;33m\u001b[0m\u001b[0m\n",
      "\u001b[1;31mKeyboardInterrupt\u001b[0m: "
     ]
    }
   ],
   "source": [
    "\n",
    "while True:\n",
    "    try:\n",
    "        start_time = dt.now()\n",
    "        # Get buy and sell offers of this cycle\n",
    "        buy = web_robot.get_offer(op='buy',amount=str(amount_btc_to_trade),is_quote=False)\n",
    "        sell = web_robot.get_offer(op='sell',amount=str(amount_btc_to_trade),is_quote=False)\n",
    "\n",
    "        # Calculate if arbitrage is possible\n",
    "        calculated_percent = percent(buy['efPrice'],sell['efPrice'])\n",
    "\n",
    "        showCycle(cycle_count,calculated_percent)\n",
    "        \n",
    "        if calculated_percent > percent_record:\n",
    "            logging.info(f\"Percent Record Reached!! : {calculated_percent} at {dt.now()}\")\n",
    "            percent_record = calculated_percent\n",
    "        # If Arbitrage is possible, confirm offers\n",
    "        if calculated_percent >= MIN_PERCENT_REQUIRED:\n",
    "            logging.info(f\"Arbitrage oportunity: buy:{buy['efPrice']}   sell:{sell['efPrice']}\")\n",
    "            playsound('beep.wav')\n",
    "            \n",
    "            #Execute orders\n",
    "            if float(last_balance['BRL']) < float(BRL_AMOUNT_TRADE):\n",
    "                executed_sell = web_robot.confirm_offer(sell['offerId'])\n",
    "                executed_buy = web_robot.confirm_offer(buy['offerId'])\n",
    "            else:\n",
    "                executed_buy = web_robot.confirm_offer(buy['offerId'])\n",
    "                executed_sell = web_robot.confirm_offer(sell['offerId'])\n",
    "\n",
    "            last_balance = bsc.get_balance()\n",
    "            logging.info(f\"New Balance is: {last_balance}\")\n",
    "\n",
    "            break\n",
    "            \n",
    "\n",
    "        end_time = dt.now()\n",
    "        seconds_elapsed = (end_time - start_time).total_seconds()\n",
    "        logging.debug(f\"Cycle took {seconds_elapsed} seconds\")\n",
    "        cycle_count +=1\n",
    "\n",
    "        updateTick(cycle_count)\n",
    "        waitForNextCycle(calculated_percent)\n",
    "    except Exception as e:\n",
    "        logging.error(e)"
   ]
  }
 ],
 "metadata": {
  "interpreter": {
   "hash": "d1923312bdd1ecdaed4c03ef9f030b61bfc0be630f081d4aef47785cf6a28ea0"
  },
  "kernelspec": {
   "display_name": "Python 3.9.7 64-bit",
   "name": "python3"
  },
  "language_info": {
   "codemirror_mode": {
    "name": "ipython",
    "version": 3
   },
   "file_extension": ".py",
   "mimetype": "text/x-python",
   "name": "python",
   "nbconvert_exporter": "python",
   "pygments_lexer": "ipython3",
   "version": "3.9.7"
  },
  "orig_nbformat": 4
 },
 "nbformat": 4,
 "nbformat_minor": 2
}
