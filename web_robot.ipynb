{
 "cells": [
  {
   "cell_type": "code",
   "execution_count": null,
   "metadata": {},
   "outputs": [],
   "source": [
    "from selenium import webdriver\n",
    "import time\n",
    "import threading\n",
    "from utils import amountToBase, showCycle, percent\n",
    "from configs import logging, MIN_PERCENT_REQUIRED, BRL_AMOUNT_TRADE, UPDATE_TICK_RATE, LOGIN_TOKEN\n",
    "from datetime import datetime as dt\n",
    "from playsound import playsound\n",
    "from classes.Robots import WebRobot, BiscointRobot"
   ]
  },
  {
   "cell_type": "code",
   "execution_count": null,
   "metadata": {},
   "outputs": [],
   "source": [
    "# Initial configs\n",
    "\n",
    "# Selenium\n",
    "options = webdriver.FirefoxOptions()\n",
    "options.add_argument('--headless')\n",
    "driver = webdriver.Firefox(options=options)\n",
    "\n",
    "driver.get(\"https://biscoint.io\")\n",
    "driver.execute_script(f\"window.localStorage.setItem('Meteor.loginToken','{LOGIN_TOKEN}');\")\n",
    "driver.get(\"https://biscoint.io/dashboard/portfolio\")\n",
    "\n",
    "# Web Robot\n",
    "web_robot = WebRobot(driver)\n",
    "biscoint_robot = BiscointRobot()"
   ]
  },
  {
   "cell_type": "code",
   "execution_count": null,
   "metadata": {},
   "outputs": [],
   "source": [
    "def updateTick(cycle_count):\n",
    "    global ticker\n",
    "    global amount_to_trade\n",
    "    if cycle_count % UPDATE_TICK_RATE == 0:\n",
    "        try:\n",
    "            ticker = web_robot.api.get_ticker()\n",
    "            amount_to_trade =  amountToBase(BRL_AMOUNT_TRADE,ticker['askQuoteAmountRef'],ticker['bidBaseAmountRef'])\n",
    "        except Exception as e:\n",
    "            logging.error(f\"Error on updating tick {e}\")\n",
    "\n",
    "# if spread is high, sleep, else speed up checks\n",
    "def waitForNextCycle(calculated_percent):\n",
    "    if calculated_percent < -0.1:\n",
    "        time.sleep(sleep_time_offers)\n",
    "    else:\n",
    "        time.sleep(0.05)\n",
    "\n",
    "def async_offer(robot, op:str,amount:str,isQuote:bool):\n",
    "    global request_orders\n",
    "    response = None\n",
    "    try:\n",
    "        response = robot.get_offer(op,amount,isQuote) \n",
    "        request_orders[op] = response\n",
    "    except Exception as e:\n",
    "        print(response)\n",
    "        print(\"Erro ao rodar thread\",e)\n"
   ]
  },
  {
   "cell_type": "code",
   "execution_count": null,
   "metadata": {},
   "outputs": [],
   "source": [
    "#Return initial balance from Biscoint\n",
    "initial_balance = last_balance = web_robot.api.get_balance()\n",
    "# Calculate the rate limit of request to Biscoint API\n",
    "endpoints_meta = web_robot.api.get_meta()\n",
    "rate_limit_offer = endpoints_meta['endpoints']['offer']['post']['rateLimit']\n",
    "sleep_time_offers = ((rate_limit_offer[\"windowMs\"] / rate_limit_offer[\"maxRequests\"]) / 1000) * 1.5\n",
    "# Convert the BRL amount of trading to BTC\n",
    "ticker = web_robot.api.get_ticker()\n",
    "\n",
    "amount_to_trade = amountToBase(BRL_AMOUNT_TRADE,ticker['askQuoteAmountRef'],ticker['bidBaseAmountRef'])\n",
    "\n",
    "percent_record = -1 # Will refresh every time when a new positive spread is achived\n",
    "\n",
    "logging.info(f\"Initial balance: {initial_balance}\")\n",
    "# Arbitrage Cycle\n",
    "cycle_count = 1\n"
   ]
  },
  {
   "cell_type": "code",
   "execution_count": null,
   "metadata": {},
   "outputs": [],
   "source": [
    "assert async_offer\n",
    "while True:\n",
    "    try:\n",
    "        start_time = dt.now()\n",
    "\n",
    "        # Get Offers in thread\n",
    "        request_orders = {}\n",
    "        thread_buy = threading.Thread(target=async_offer, args=(web_robot, 'buy',str(amount_to_trade), False))\n",
    "        thread_sell = threading.Thread(target=async_offer, args=(biscoint_robot,'sell',str(amount_to_trade), False))\n",
    "        thread_buy.start()\n",
    "        thread_sell.start()\n",
    "        thread_buy.join()\n",
    "        thread_sell.join()\n",
    "\n",
    "        # Get buy and sell offers of this cycle\n",
    "        #buy = web_robot.get_offer(op='buy',amount=str(amount_btc_to_trade),is_quote=False)\n",
    "        #sell = web_robot.get_offer(op='sell',amount=str(amount_btc_to_trade),is_quote=False)\n",
    "        buy = request_orders['buy']\n",
    "        sell = request_orders['sell']\n",
    "\n",
    "        # Calculate if arbitrage is possible\n",
    "        calculated_percent = percent(buy['efPrice'],sell['efPrice'])\n",
    "\n",
    "        showCycle(cycle_count,calculated_percent)\n",
    "        \n",
    "        if calculated_percent > percent_record:\n",
    "            logging.info(f\"Percent Record Reached!! : {calculated_percent} at {dt.now()}\")\n",
    "            percent_record = calculated_percent\n",
    "        # If Arbitrage is possible, confirm offers\n",
    "        if calculated_percent >= MIN_PERCENT_REQUIRED:\n",
    "            logging.info(f\"Arbitrage oportunity: buy:{buy['efPrice']}   sell:{sell['efPrice']}\")\n",
    "            playsound('beep.wav')\n",
    "            \n",
    "            #Execute orders\n",
    "            if float(last_balance['BRL']) < float(BRL_AMOUNT_TRADE):\n",
    "                executed_sell = web_robot.confirm_offer(sell['offerId'])\n",
    "                executed_buy = web_robot.confirm_offer(buy['offerId'])\n",
    "            else:\n",
    "                executed_buy = web_robot.confirm_offer(buy['offerId'])\n",
    "                executed_sell = web_robot.confirm_offer(sell['offerId'])\n",
    "\n",
    "            last_balance = web_robot.api.get_balance()\n",
    "            logging.info(f\"New Balance is: {last_balance}\")\n",
    "\n",
    "            break\n",
    "            \n",
    "\n",
    "        end_time = dt.now()\n",
    "        seconds_elapsed = (end_time - start_time).total_seconds()\n",
    "        logging.debug(f\"Cycle took {seconds_elapsed} seconds\")\n",
    "        cycle_count +=1\n",
    "\n",
    "        updateTick(cycle_count)\n",
    "        waitForNextCycle(calculated_percent)\n",
    "    except Exception as e:\n",
    "        logging.error(e)"
   ]
  },
  {
   "cell_type": "code",
   "execution_count": null,
   "metadata": {},
   "outputs": [],
   "source": [
    "driver.quit()"
   ]
  }
 ],
 "metadata": {
  "interpreter": {
   "hash": "d1923312bdd1ecdaed4c03ef9f030b61bfc0be630f081d4aef47785cf6a28ea0"
  },
  "kernelspec": {
   "display_name": "Python 3.9.7 64-bit",
   "name": "python3"
  },
  "language_info": {
   "codemirror_mode": {
    "name": "ipython",
    "version": 3
   },
   "file_extension": ".py",
   "mimetype": "text/x-python",
   "name": "python",
   "nbconvert_exporter": "python",
   "pygments_lexer": "ipython3",
   "version": "3.9.7"
  },
  "orig_nbformat": 4
 },
 "nbformat": 4,
 "nbformat_minor": 2
}
